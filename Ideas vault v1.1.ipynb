{
 "cells": [
  {
   "cell_type": "markdown",
   "id": "1bf7d5d0",
   "metadata": {},
   "source": [
    "# EDA"
   ]
  },
  {
   "cell_type": "markdown",
   "id": "09d679e5",
   "metadata": {},
   "source": [
    "1. clean and validate data \n",
    "2. perform some eda on the data to be able to see what the median baseline is and identify outliers \n",
    "3. Are the outliers due to faulty sensors such as a temp of 999 or -999 impossible \n",
    "4. remove the outliers and/or replace with median values \n"
   ]
  },
  {
   "cell_type": "code",
   "execution_count": 1,
   "id": "0e35596d",
   "metadata": {},
   "outputs": [],
   "source": [
    "# Import libraries\n",
    "import pandas as pd\n",
    "import numpy as np\n",
    "import matplotlib.pyplot as plt\n",
    "import seaborn as sns\n",
    "from scipy import stats\n",
    "from sklearn.preprocessing import PowerTransformer\n",
    "from sklearn.model_selection import GridSearchCV\n",
    "from sklearn.ensemble import RandomForestClassifier\n",
    "from sklearn.model_selection import train_test_split\n",
    "from sklearn.metrics import accuracy_score, confusion_matrix, classification_report, ConfusionMatrixDisplay\n",
    "pd.options.display.float_format = '{:.5f}'.format\n",
    "\n",
    "%matplotlib inline\n",
    "import warnings\n",
    "warnings.filterwarnings('ignore')"
   ]
  },
  {
   "cell_type": "code",
   "execution_count": 2,
   "id": "03f582a7",
   "metadata": {},
   "outputs": [],
   "source": [
    "# Load files\n",
    "train = pd.read_csv('train.csv', parse_dates = ['Datetime'])\n",
    "test = pd.read_csv('test.csv', parse_dates = ['Datetime'])\n",
    "samplesubmission = pd.read_csv('SampleSubmission.csv')\n"
   ]
  },
  {
   "cell_type": "code",
   "execution_count": 3,
   "id": "6089a727",
   "metadata": {},
   "outputs": [],
   "source": [
    "train_copy = train.copy()"
   ]
  },
  {
   "cell_type": "code",
   "execution_count": 4,
   "id": "70195250",
   "metadata": {},
   "outputs": [
    {
     "data": {
      "text/html": [
       "<div>\n",
       "<style scoped>\n",
       "    .dataframe tbody tr th:only-of-type {\n",
       "        vertical-align: middle;\n",
       "    }\n",
       "\n",
       "    .dataframe tbody tr th {\n",
       "        vertical-align: top;\n",
       "    }\n",
       "\n",
       "    .dataframe thead th {\n",
       "        text-align: right;\n",
       "    }\n",
       "</style>\n",
       "<table border=\"1\" class=\"dataframe\">\n",
       "  <thead>\n",
       "    <tr style=\"text-align: right;\">\n",
       "      <th></th>\n",
       "      <th>ID</th>\n",
       "      <th>Datetime</th>\n",
       "      <th>Sensor1_PM2.5</th>\n",
       "      <th>Sensor2_PM2.5</th>\n",
       "      <th>Temperature</th>\n",
       "      <th>Relative_Humidity</th>\n",
       "      <th>Offset_fault</th>\n",
       "    </tr>\n",
       "  </thead>\n",
       "  <tbody>\n",
       "    <tr>\n",
       "      <th>0</th>\n",
       "      <td>ID_QF0ZTQJ2SF5Q</td>\n",
       "      <td>2021-11-03 04:06:31</td>\n",
       "      <td>52.58000</td>\n",
       "      <td>49.52000</td>\n",
       "      <td>17.40000</td>\n",
       "      <td>96.00000</td>\n",
       "      <td>0</td>\n",
       "    </tr>\n",
       "    <tr>\n",
       "      <th>1</th>\n",
       "      <td>ID_4GTK689CNX5S</td>\n",
       "      <td>2021-11-08 18:43:23</td>\n",
       "      <td>35.25000</td>\n",
       "      <td>33.40000</td>\n",
       "      <td>25.00000</td>\n",
       "      <td>75.00000</td>\n",
       "      <td>0</td>\n",
       "    </tr>\n",
       "    <tr>\n",
       "      <th>2</th>\n",
       "      <td>ID_DL7VVKW9U7XQ</td>\n",
       "      <td>2021-11-07 09:50:33</td>\n",
       "      <td>19.18000</td>\n",
       "      <td>23.50000</td>\n",
       "      <td>24.90000</td>\n",
       "      <td>75.00000</td>\n",
       "      <td>0</td>\n",
       "    </tr>\n",
       "    <tr>\n",
       "      <th>3</th>\n",
       "      <td>ID_6XQOMBXM2DG3</td>\n",
       "      <td>2022-01-01 18:55:15</td>\n",
       "      <td>19.40000</td>\n",
       "      <td>15.48000</td>\n",
       "      <td>24.90000</td>\n",
       "      <td>70.00000</td>\n",
       "      <td>0</td>\n",
       "    </tr>\n",
       "    <tr>\n",
       "      <th>4</th>\n",
       "      <td>ID_UQZW9ISJY9QE</td>\n",
       "      <td>2021-11-05 22:23:48</td>\n",
       "      <td>38.30000</td>\n",
       "      <td>34.77000</td>\n",
       "      <td>20.90000</td>\n",
       "      <td>89.00000</td>\n",
       "      <td>0</td>\n",
       "    </tr>\n",
       "  </tbody>\n",
       "</table>\n",
       "</div>"
      ],
      "text/plain": [
       "                ID            Datetime  Sensor1_PM2.5  Sensor2_PM2.5  \\\n",
       "0  ID_QF0ZTQJ2SF5Q 2021-11-03 04:06:31       52.58000       49.52000   \n",
       "1  ID_4GTK689CNX5S 2021-11-08 18:43:23       35.25000       33.40000   \n",
       "2  ID_DL7VVKW9U7XQ 2021-11-07 09:50:33       19.18000       23.50000   \n",
       "3  ID_6XQOMBXM2DG3 2022-01-01 18:55:15       19.40000       15.48000   \n",
       "4  ID_UQZW9ISJY9QE 2021-11-05 22:23:48       38.30000       34.77000   \n",
       "\n",
       "   Temperature  Relative_Humidity  Offset_fault  \n",
       "0     17.40000           96.00000             0  \n",
       "1     25.00000           75.00000             0  \n",
       "2     24.90000           75.00000             0  \n",
       "3     24.90000           70.00000             0  \n",
       "4     20.90000           89.00000             0  "
      ]
     },
     "execution_count": 4,
     "metadata": {},
     "output_type": "execute_result"
    }
   ],
   "source": [
    "train.head()"
   ]
  },
  {
   "cell_type": "code",
   "execution_count": 5,
   "id": "cdc53097",
   "metadata": {
    "scrolled": true
   },
   "outputs": [
    {
     "name": "stdout",
     "output_type": "stream",
     "text": [
      "<class 'pandas.core.frame.DataFrame'>\n",
      "RangeIndex: 297177 entries, 0 to 297176\n",
      "Data columns (total 7 columns):\n",
      " #   Column             Non-Null Count   Dtype         \n",
      "---  ------             --------------   -----         \n",
      " 0   ID                 297177 non-null  object        \n",
      " 1   Datetime           297177 non-null  datetime64[ns]\n",
      " 2   Sensor1_PM2.5      293563 non-null  float64       \n",
      " 3   Sensor2_PM2.5      293563 non-null  float64       \n",
      " 4   Temperature        293628 non-null  float64       \n",
      " 5   Relative_Humidity  293628 non-null  float64       \n",
      " 6   Offset_fault       297177 non-null  int64         \n",
      "dtypes: datetime64[ns](1), float64(4), int64(1), object(1)\n",
      "memory usage: 15.9+ MB\n"
     ]
    }
   ],
   "source": [
    "train.info()"
   ]
  },
  {
   "cell_type": "code",
   "execution_count": 6,
   "id": "f672703e",
   "metadata": {},
   "outputs": [
    {
     "data": {
      "text/html": [
       "<div>\n",
       "<style scoped>\n",
       "    .dataframe tbody tr th:only-of-type {\n",
       "        vertical-align: middle;\n",
       "    }\n",
       "\n",
       "    .dataframe tbody tr th {\n",
       "        vertical-align: top;\n",
       "    }\n",
       "\n",
       "    .dataframe thead th {\n",
       "        text-align: right;\n",
       "    }\n",
       "</style>\n",
       "<table border=\"1\" class=\"dataframe\">\n",
       "  <thead>\n",
       "    <tr style=\"text-align: right;\">\n",
       "      <th></th>\n",
       "      <th>Sensor1_PM2.5</th>\n",
       "      <th>Sensor2_PM2.5</th>\n",
       "      <th>Temperature</th>\n",
       "      <th>Relative_Humidity</th>\n",
       "      <th>Offset_fault</th>\n",
       "    </tr>\n",
       "  </thead>\n",
       "  <tbody>\n",
       "    <tr>\n",
       "      <th>count</th>\n",
       "      <td>293563.00000</td>\n",
       "      <td>293563.00000</td>\n",
       "      <td>293628.00000</td>\n",
       "      <td>293628.00000</td>\n",
       "      <td>297177.00000</td>\n",
       "    </tr>\n",
       "    <tr>\n",
       "      <th>mean</th>\n",
       "      <td>40.75120</td>\n",
       "      <td>38.18302</td>\n",
       "      <td>23.31655</td>\n",
       "      <td>78.65362</td>\n",
       "      <td>0.37107</td>\n",
       "    </tr>\n",
       "    <tr>\n",
       "      <th>std</th>\n",
       "      <td>28.52618</td>\n",
       "      <td>28.64776</td>\n",
       "      <td>3.83697</td>\n",
       "      <td>14.77272</td>\n",
       "      <td>0.48309</td>\n",
       "    </tr>\n",
       "    <tr>\n",
       "      <th>min</th>\n",
       "      <td>-9.45000</td>\n",
       "      <td>-9.70000</td>\n",
       "      <td>16.70000</td>\n",
       "      <td>27.00000</td>\n",
       "      <td>0.00000</td>\n",
       "    </tr>\n",
       "    <tr>\n",
       "      <th>25%</th>\n",
       "      <td>22.43000</td>\n",
       "      <td>19.52000</td>\n",
       "      <td>20.40000</td>\n",
       "      <td>68.00000</td>\n",
       "      <td>0.00000</td>\n",
       "    </tr>\n",
       "    <tr>\n",
       "      <th>50%</th>\n",
       "      <td>36.47000</td>\n",
       "      <td>33.72000</td>\n",
       "      <td>21.90000</td>\n",
       "      <td>84.00000</td>\n",
       "      <td>0.00000</td>\n",
       "    </tr>\n",
       "    <tr>\n",
       "      <th>75%</th>\n",
       "      <td>49.42000</td>\n",
       "      <td>47.57000</td>\n",
       "      <td>26.30000</td>\n",
       "      <td>91.00000</td>\n",
       "      <td>1.00000</td>\n",
       "    </tr>\n",
       "    <tr>\n",
       "      <th>max</th>\n",
       "      <td>997.96000</td>\n",
       "      <td>997.26000</td>\n",
       "      <td>34.90000</td>\n",
       "      <td>99.00000</td>\n",
       "      <td>1.00000</td>\n",
       "    </tr>\n",
       "  </tbody>\n",
       "</table>\n",
       "</div>"
      ],
      "text/plain": [
       "       Sensor1_PM2.5  Sensor2_PM2.5  Temperature  Relative_Humidity  \\\n",
       "count   293563.00000   293563.00000 293628.00000       293628.00000   \n",
       "mean        40.75120       38.18302     23.31655           78.65362   \n",
       "std         28.52618       28.64776      3.83697           14.77272   \n",
       "min         -9.45000       -9.70000     16.70000           27.00000   \n",
       "25%         22.43000       19.52000     20.40000           68.00000   \n",
       "50%         36.47000       33.72000     21.90000           84.00000   \n",
       "75%         49.42000       47.57000     26.30000           91.00000   \n",
       "max        997.96000      997.26000     34.90000           99.00000   \n",
       "\n",
       "       Offset_fault  \n",
       "count  297177.00000  \n",
       "mean        0.37107  \n",
       "std         0.48309  \n",
       "min         0.00000  \n",
       "25%         0.00000  \n",
       "50%         0.00000  \n",
       "75%         1.00000  \n",
       "max         1.00000  "
      ]
     },
     "execution_count": 6,
     "metadata": {},
     "output_type": "execute_result"
    }
   ],
   "source": [
    "train.describe()"
   ]
  },
  {
   "cell_type": "code",
   "execution_count": 7,
   "id": "8e3d5850",
   "metadata": {},
   "outputs": [
    {
     "data": {
      "text/plain": [
       "(127361, 6)"
      ]
     },
     "execution_count": 7,
     "metadata": {},
     "output_type": "execute_result"
    }
   ],
   "source": [
    "test.shape"
   ]
  },
  {
   "cell_type": "markdown",
   "id": "b61f0b67",
   "metadata": {},
   "source": [
    "## Looking at the skewness of the data \n"
   ]
  },
  {
   "cell_type": "code",
   "execution_count": 8,
   "id": "ca591cef",
   "metadata": {},
   "outputs": [
    {
     "data": {
      "text/plain": [
       "(297177, 7)"
      ]
     },
     "execution_count": 8,
     "metadata": {},
     "output_type": "execute_result"
    }
   ],
   "source": [
    "train.shape "
   ]
  },
  {
   "cell_type": "code",
   "execution_count": 9,
   "id": "ec305cbc",
   "metadata": {},
   "outputs": [],
   "source": [
    "sensor1 = train['Sensor1_PM2.5']\n",
    "sensor2 = train['Sensor2_PM2.5']\n",
    "temperature = train['Temperature']\n",
    "relative_humidity = train['Relative_Humidity']\n",
    "offset_fault = train['Offset_fault']"
   ]
  },
  {
   "cell_type": "markdown",
   "id": "8052fa11",
   "metadata": {},
   "source": [
    "data before replacing missing numerical values with the means"
   ]
  },
  {
   "cell_type": "code",
   "execution_count": 10,
   "id": "8b799972",
   "metadata": {
    "scrolled": true
   },
   "outputs": [
    {
     "data": {
      "text/plain": [
       "[<matplotlib.lines.Line2D at 0x1c739056a30>]"
      ]
     },
     "execution_count": 10,
     "metadata": {},
     "output_type": "execute_result"
    },
    {
     "data": {
      "image/png": "[encoded data removed]",
      "text/plain": [
       "<Figure size 432x288 with 1 Axes>"
      ]
     },
     "metadata": {
      "needs_background": "light"
     },
     "output_type": "display_data"
    }
   ],
   "source": [
    "plt.plot(sensor1.value_counts().sort_index())"
   ]
  },
  {
   "cell_type": "code",
   "execution_count": 11,
   "id": "60ff7403",
   "metadata": {},
   "outputs": [
    {
     "data": {
      "text/plain": [
       "[<matplotlib.lines.Line2D at 0x1c7392214f0>]"
      ]
     },
     "execution_count": 11,
     "metadata": {},
     "output_type": "execute_result"
    },
    {
     "data": {
      "image/png": "[encoded data removed]",
      "text/plain": [
       "<Figure size 432x288 with 1 Axes>"
      ]
     },
     "metadata": {
      "needs_background": "light"
     },
     "output_type": "display_data"
    }
   ],
   "source": [
    "plt.plot(sensor2.value_counts().sort_index())"
   ]
  },
  {
   "cell_type": "code",
   "execution_count": 12,
   "id": "75598f68",
   "metadata": {},
   "outputs": [
    {
     "data": {
      "text/plain": [
       "[<matplotlib.lines.Line2D at 0x1c73a56eca0>]"
      ]
     },
     "execution_count": 12,
     "metadata": {},
     "output_type": "execute_result"
    },
    {
     "data": {
      "image/png": "[encoded data removed]",
      "text/plain": [
       "<Figure size 432x288 with 1 Axes>"
      ]
     },
     "metadata": {
      "needs_background": "light"
     },
     "output_type": "display_data"
    }
   ],
   "source": [
    "plt.plot(temperature.value_counts().sort_index())"
   ]
  },
  {
   "cell_type": "code",
   "execution_count": 13,
   "id": "9d140dd3",
   "metadata": {},
   "outputs": [
    {
     "data": {
      "text/plain": [
       "[<matplotlib.lines.Line2D at 0x1c73a5e2580>]"
      ]
     },
     "execution_count": 13,
     "metadata": {},
     "output_type": "execute_result"
    },
    {
     "data": {
      "image/png": "[encoded data removed]",
      "text/plain": [
       "<Figure size 432x288 with 1 Axes>"
      ]
     },
     "metadata": {
      "needs_background": "light"
     },
     "output_type": "display_data"
    }
   ],
   "source": [
    "plt.plot(relative_humidity.value_counts().sort_index())"
   ]
  },
  {
   "cell_type": "code",
   "execution_count": 14,
   "id": "5221310f",
   "metadata": {
    "scrolled": true
   },
   "outputs": [
    {
     "data": {
      "text/plain": [
       "[<matplotlib.lines.Line2D at 0x1c73a6525b0>]"
      ]
     },
     "execution_count": 14,
     "metadata": {},
     "output_type": "execute_result"
    },
    {
     "data": {
      "image/png": "[encoded data removed]",
      "text/plain": [
       "<Figure size 432x288 with 1 Axes>"
      ]
     },
     "metadata": {
      "needs_background": "light"
     },
     "output_type": "display_data"
    }
   ],
   "source": [
    "plt.plot(offset_fault.value_counts().sort_index())"
   ]
  },
  {
   "cell_type": "markdown",
   "id": "24bdf1bb",
   "metadata": {},
   "source": [
    "Since some of the data above is skewed we will imput the median instead of the mean for the missing data but before that we need to know where the missing data is most prominent is the data missing for a specific date or is it missing when the temparature is low this could lead us to a solution that can help the manufacturer to produce a better performing product in general "
   ]
  },
  {
   "cell_type": "markdown",
   "id": "4f9c5825",
   "metadata": {},
   "source": [
    "## Looking at the missing values "
   ]
  },
  {
   "cell_type": "markdown",
   "id": "5ba2da65",
   "metadata": {},
   "source": [
    "### Sensor 1 and 2"
   ]
  },
  {
   "cell_type": "code",
   "execution_count": 15,
   "id": "6150f214",
   "metadata": {},
   "outputs": [
    {
     "name": "stdout",
     "output_type": "stream",
     "text": [
      "<class 'pandas.core.frame.DataFrame'>\n",
      "Int64Index: 3614 entries, 124 to 296976\n",
      "Data columns (total 7 columns):\n",
      " #   Column             Non-Null Count  Dtype         \n",
      "---  ------             --------------  -----         \n",
      " 0   ID                 3614 non-null   object        \n",
      " 1   Datetime           3614 non-null   datetime64[ns]\n",
      " 2   Sensor1_PM2.5      0 non-null      float64       \n",
      " 3   Sensor2_PM2.5      0 non-null      float64       \n",
      " 4   Temperature        3614 non-null   float64       \n",
      " 5   Relative_Humidity  3614 non-null   float64       \n",
      " 6   Offset_fault       3614 non-null   int64         \n",
      "dtypes: datetime64[ns](1), float64(4), int64(1), object(1)\n",
      "memory usage: 225.9+ KB\n"
     ]
    }
   ],
   "source": [
    "missing_sensor1=sensor1.isnull()\n",
    "train[missing_sensor1].info()"
   ]
  },
  {
   "cell_type": "code",
   "execution_count": 16,
   "id": "feae17ee",
   "metadata": {},
   "outputs": [
    {
     "name": "stdout",
     "output_type": "stream",
     "text": [
      "<class 'pandas.core.frame.DataFrame'>\n",
      "Int64Index: 3614 entries, 124 to 296976\n",
      "Data columns (total 7 columns):\n",
      " #   Column             Non-Null Count  Dtype         \n",
      "---  ------             --------------  -----         \n",
      " 0   ID                 3614 non-null   object        \n",
      " 1   Datetime           3614 non-null   datetime64[ns]\n",
      " 2   Sensor1_PM2.5      0 non-null      float64       \n",
      " 3   Sensor2_PM2.5      0 non-null      float64       \n",
      " 4   Temperature        3614 non-null   float64       \n",
      " 5   Relative_Humidity  3614 non-null   float64       \n",
      " 6   Offset_fault       3614 non-null   int64         \n",
      "dtypes: datetime64[ns](1), float64(4), int64(1), object(1)\n",
      "memory usage: 225.9+ KB\n"
     ]
    }
   ],
   "source": [
    "missing_sensor2=sensor2.isnull()\n",
    "train[missing_sensor2].info()"
   ]
  },
  {
   "cell_type": "markdown",
   "id": "b8a6ba40",
   "metadata": {},
   "source": [
    "seems like if a value is missing for sensor 1 it also comes up missing for sensor 2"
   ]
  },
  {
   "cell_type": "code",
   "execution_count": 17,
   "id": "b42d8acb",
   "metadata": {
    "scrolled": true
   },
   "outputs": [
    {
     "data": {
      "text/html": [
       "<div>\n",
       "<style scoped>\n",
       "    .dataframe tbody tr th:only-of-type {\n",
       "        vertical-align: middle;\n",
       "    }\n",
       "\n",
       "    .dataframe tbody tr th {\n",
       "        vertical-align: top;\n",
       "    }\n",
       "\n",
       "    .dataframe thead th {\n",
       "        text-align: right;\n",
       "    }\n",
       "</style>\n",
       "<table border=\"1\" class=\"dataframe\">\n",
       "  <thead>\n",
       "    <tr style=\"text-align: right;\">\n",
       "      <th></th>\n",
       "      <th>ID</th>\n",
       "      <th>Datetime</th>\n",
       "      <th>Sensor1_PM2.5</th>\n",
       "      <th>Sensor2_PM2.5</th>\n",
       "      <th>Temperature</th>\n",
       "      <th>Relative_Humidity</th>\n",
       "      <th>Offset_fault</th>\n",
       "    </tr>\n",
       "  </thead>\n",
       "  <tbody>\n",
       "    <tr>\n",
       "      <th>count</th>\n",
       "      <td>3614</td>\n",
       "      <td>3614</td>\n",
       "      <td>3614</td>\n",
       "      <td>3614</td>\n",
       "      <td>3614</td>\n",
       "      <td>3614</td>\n",
       "      <td>3614</td>\n",
       "    </tr>\n",
       "    <tr>\n",
       "      <th>unique</th>\n",
       "      <td>1</td>\n",
       "      <td>1</td>\n",
       "      <td>1</td>\n",
       "      <td>1</td>\n",
       "      <td>1</td>\n",
       "      <td>1</td>\n",
       "      <td>1</td>\n",
       "    </tr>\n",
       "    <tr>\n",
       "      <th>top</th>\n",
       "      <td>True</td>\n",
       "      <td>True</td>\n",
       "      <td>False</td>\n",
       "      <td>False</td>\n",
       "      <td>True</td>\n",
       "      <td>True</td>\n",
       "      <td>True</td>\n",
       "    </tr>\n",
       "    <tr>\n",
       "      <th>freq</th>\n",
       "      <td>3614</td>\n",
       "      <td>3614</td>\n",
       "      <td>3614</td>\n",
       "      <td>3614</td>\n",
       "      <td>3614</td>\n",
       "      <td>3614</td>\n",
       "      <td>3614</td>\n",
       "    </tr>\n",
       "  </tbody>\n",
       "</table>\n",
       "</div>"
      ],
      "text/plain": [
       "          ID Datetime Sensor1_PM2.5 Sensor2_PM2.5 Temperature  \\\n",
       "count   3614     3614          3614          3614        3614   \n",
       "unique     1        1             1             1           1   \n",
       "top     True     True         False         False        True   \n",
       "freq    3614     3614          3614          3614        3614   \n",
       "\n",
       "       Relative_Humidity Offset_fault  \n",
       "count               3614         3614  \n",
       "unique                 1            1  \n",
       "top                 True         True  \n",
       "freq                3614         3614  "
      ]
     },
     "execution_count": 17,
     "metadata": {},
     "output_type": "execute_result"
    }
   ],
   "source": [
    "(train[missing_sensor2]==train[missing_sensor1]).describe()"
   ]
  },
  {
   "cell_type": "code",
   "execution_count": 18,
   "id": "6de306e9",
   "metadata": {},
   "outputs": [
    {
     "data": {
      "text/html": [
       "<div>\n",
       "<style scoped>\n",
       "    .dataframe tbody tr th:only-of-type {\n",
       "        vertical-align: middle;\n",
       "    }\n",
       "\n",
       "    .dataframe tbody tr th {\n",
       "        vertical-align: top;\n",
       "    }\n",
       "\n",
       "    .dataframe thead th {\n",
       "        text-align: right;\n",
       "    }\n",
       "</style>\n",
       "<table border=\"1\" class=\"dataframe\">\n",
       "  <thead>\n",
       "    <tr style=\"text-align: right;\">\n",
       "      <th></th>\n",
       "      <th>Sensor1_PM2.5</th>\n",
       "      <th>Sensor2_PM2.5</th>\n",
       "      <th>Temperature</th>\n",
       "      <th>Relative_Humidity</th>\n",
       "      <th>Offset_fault</th>\n",
       "    </tr>\n",
       "  </thead>\n",
       "  <tbody>\n",
       "    <tr>\n",
       "      <th>count</th>\n",
       "      <td>0.00000</td>\n",
       "      <td>0.00000</td>\n",
       "      <td>3614.00000</td>\n",
       "      <td>3614.00000</td>\n",
       "      <td>3614.00000</td>\n",
       "    </tr>\n",
       "    <tr>\n",
       "      <th>mean</th>\n",
       "      <td>NaN</td>\n",
       "      <td>NaN</td>\n",
       "      <td>22.82028</td>\n",
       "      <td>81.80160</td>\n",
       "      <td>0.42667</td>\n",
       "    </tr>\n",
       "    <tr>\n",
       "      <th>std</th>\n",
       "      <td>NaN</td>\n",
       "      <td>NaN</td>\n",
       "      <td>3.37731</td>\n",
       "      <td>12.75699</td>\n",
       "      <td>0.49466</td>\n",
       "    </tr>\n",
       "    <tr>\n",
       "      <th>min</th>\n",
       "      <td>NaN</td>\n",
       "      <td>NaN</td>\n",
       "      <td>18.40000</td>\n",
       "      <td>52.00000</td>\n",
       "      <td>0.00000</td>\n",
       "    </tr>\n",
       "    <tr>\n",
       "      <th>25%</th>\n",
       "      <td>NaN</td>\n",
       "      <td>NaN</td>\n",
       "      <td>20.10000</td>\n",
       "      <td>70.00000</td>\n",
       "      <td>0.00000</td>\n",
       "    </tr>\n",
       "    <tr>\n",
       "      <th>50%</th>\n",
       "      <td>NaN</td>\n",
       "      <td>NaN</td>\n",
       "      <td>21.60000</td>\n",
       "      <td>88.00000</td>\n",
       "      <td>0.00000</td>\n",
       "    </tr>\n",
       "    <tr>\n",
       "      <th>75%</th>\n",
       "      <td>NaN</td>\n",
       "      <td>NaN</td>\n",
       "      <td>25.10000</td>\n",
       "      <td>91.00000</td>\n",
       "      <td>1.00000</td>\n",
       "    </tr>\n",
       "    <tr>\n",
       "      <th>max</th>\n",
       "      <td>NaN</td>\n",
       "      <td>NaN</td>\n",
       "      <td>30.80000</td>\n",
       "      <td>97.00000</td>\n",
       "      <td>1.00000</td>\n",
       "    </tr>\n",
       "  </tbody>\n",
       "</table>\n",
       "</div>"
      ],
      "text/plain": [
       "       Sensor1_PM2.5  Sensor2_PM2.5  Temperature  Relative_Humidity  \\\n",
       "count        0.00000        0.00000   3614.00000         3614.00000   \n",
       "mean             NaN            NaN     22.82028           81.80160   \n",
       "std              NaN            NaN      3.37731           12.75699   \n",
       "min              NaN            NaN     18.40000           52.00000   \n",
       "25%              NaN            NaN     20.10000           70.00000   \n",
       "50%              NaN            NaN     21.60000           88.00000   \n",
       "75%              NaN            NaN     25.10000           91.00000   \n",
       "max              NaN            NaN     30.80000           97.00000   \n",
       "\n",
       "       Offset_fault  \n",
       "count    3614.00000  \n",
       "mean        0.42667  \n",
       "std         0.49466  \n",
       "min         0.00000  \n",
       "25%         0.00000  \n",
       "50%         0.00000  \n",
       "75%         1.00000  \n",
       "max         1.00000  "
      ]
     },
     "execution_count": 18,
     "metadata": {},
     "output_type": "execute_result"
    }
   ],
   "source": [
    "train[missing_sensor1].describe()"
   ]
  },
  {
   "cell_type": "code",
   "execution_count": 19,
   "id": "28f78e00",
   "metadata": {},
   "outputs": [
    {
     "data": {
      "text/plain": [
       "Datetime\n",
       "2021-10-18    593\n",
       "2021-10-19    949\n",
       "2021-10-20    547\n",
       "2021-10-21    940\n",
       "2021-10-22    585\n",
       "Name: ID, dtype: int64"
      ]
     },
     "execution_count": 19,
     "metadata": {},
     "output_type": "execute_result"
    }
   ],
   "source": [
    "train[missing_sensor1].groupby(train['Datetime'].dt.floor('d'))['ID'].count()"
   ]
  },
  {
   "cell_type": "code",
   "execution_count": 20,
   "id": "ce20e193",
   "metadata": {},
   "outputs": [
    {
     "data": {
      "text/plain": [
       "Datetime\n",
       "2021-10-18    593\n",
       "2021-10-19    949\n",
       "2021-10-20    547\n",
       "2021-10-21    940\n",
       "2021-10-22    585\n",
       "Name: ID, dtype: int64"
      ]
     },
     "execution_count": 20,
     "metadata": {},
     "output_type": "execute_result"
    }
   ],
   "source": [
    "train[missing_sensor2].groupby(train['Datetime'].dt.floor('d'))['ID'].count()"
   ]
  },
  {
   "cell_type": "markdown",
   "id": "ce2985aa",
   "metadata": {},
   "source": [
    "The missing data happens on consecutive days from 18-10-2021 to 22-10-2021 we had already seen that the id's and dates for the sensors 1 and 2 match so the above step was not nessesary but just out of due dilligence. We had already determined that the data for sensor 1 and 2 is skew and liable to be influenced by outliers so i will replace the missing data with the median of the data set in order to side step the skewness matter.\n",
    "\n",
    "*https://reliefweb.int/report/uganda/uganda-floods-landslides-and-hailstorms-dg-echo-uganda-red-cross-society-iom-office\n",
    "*As a possible explanation for what happened to the data for these consecutive days "
   ]
  },
  {
   "cell_type": "markdown",
   "id": "92487c09",
   "metadata": {},
   "source": [
    "### Temperature and Humidity"
   ]
  },
  {
   "cell_type": "code",
   "execution_count": 21,
   "id": "d5d13d7e",
   "metadata": {},
   "outputs": [
    {
     "name": "stdout",
     "output_type": "stream",
     "text": [
      "<class 'pandas.core.frame.DataFrame'>\n",
      "Int64Index: 3549 entries, 103 to 297083\n",
      "Data columns (total 7 columns):\n",
      " #   Column             Non-Null Count  Dtype         \n",
      "---  ------             --------------  -----         \n",
      " 0   ID                 3549 non-null   object        \n",
      " 1   Datetime           3549 non-null   datetime64[ns]\n",
      " 2   Sensor1_PM2.5      3549 non-null   float64       \n",
      " 3   Sensor2_PM2.5      3549 non-null   float64       \n",
      " 4   Temperature        0 non-null      float64       \n",
      " 5   Relative_Humidity  0 non-null      float64       \n",
      " 6   Offset_fault       3549 non-null   int64         \n",
      "dtypes: datetime64[ns](1), float64(4), int64(1), object(1)\n",
      "memory usage: 221.8+ KB\n"
     ]
    }
   ],
   "source": [
    "missing_temparature=temperature.isnull()\n",
    "train[missing_temparature].info()"
   ]
  },
  {
   "cell_type": "markdown",
   "id": "fcd62eea",
   "metadata": {},
   "source": [
    "There seems to be a correlation between missing temparature data and missing relative humidity data this will need further investigation and i might have to even change my heading for this i named it temperature immaturely. It shall become temparatue and humidity "
   ]
  },
  {
   "cell_type": "code",
   "execution_count": 22,
   "id": "9a704cf3",
   "metadata": {},
   "outputs": [
    {
     "name": "stdout",
     "output_type": "stream",
     "text": [
      "<class 'pandas.core.frame.DataFrame'>\n",
      "Int64Index: 3549 entries, 103 to 297083\n",
      "Data columns (total 7 columns):\n",
      " #   Column             Non-Null Count  Dtype         \n",
      "---  ------             --------------  -----         \n",
      " 0   ID                 3549 non-null   object        \n",
      " 1   Datetime           3549 non-null   datetime64[ns]\n",
      " 2   Sensor1_PM2.5      3549 non-null   float64       \n",
      " 3   Sensor2_PM2.5      3549 non-null   float64       \n",
      " 4   Temperature        0 non-null      float64       \n",
      " 5   Relative_Humidity  0 non-null      float64       \n",
      " 6   Offset_fault       3549 non-null   int64         \n",
      "dtypes: datetime64[ns](1), float64(4), int64(1), object(1)\n",
      "memory usage: 221.8+ KB\n"
     ]
    }
   ],
   "source": [
    "missing_humidity=relative_humidity.isnull()\n",
    "train[missing_humidity].info()"
   ]
  },
  {
   "cell_type": "markdown",
   "id": "8049dcd2",
   "metadata": {},
   "source": [
    "Indeed the same amount of missing temparature data is also the same as the missing humidity data "
   ]
  },
  {
   "cell_type": "code",
   "execution_count": 23,
   "id": "c58fee86",
   "metadata": {},
   "outputs": [
    {
     "data": {
      "text/html": [
       "<div>\n",
       "<style scoped>\n",
       "    .dataframe tbody tr th:only-of-type {\n",
       "        vertical-align: middle;\n",
       "    }\n",
       "\n",
       "    .dataframe tbody tr th {\n",
       "        vertical-align: top;\n",
       "    }\n",
       "\n",
       "    .dataframe thead th {\n",
       "        text-align: right;\n",
       "    }\n",
       "</style>\n",
       "<table border=\"1\" class=\"dataframe\">\n",
       "  <thead>\n",
       "    <tr style=\"text-align: right;\">\n",
       "      <th></th>\n",
       "      <th>ID</th>\n",
       "      <th>Datetime</th>\n",
       "      <th>Sensor1_PM2.5</th>\n",
       "      <th>Sensor2_PM2.5</th>\n",
       "      <th>Temperature</th>\n",
       "      <th>Relative_Humidity</th>\n",
       "      <th>Offset_fault</th>\n",
       "    </tr>\n",
       "  </thead>\n",
       "  <tbody>\n",
       "    <tr>\n",
       "      <th>count</th>\n",
       "      <td>3549</td>\n",
       "      <td>3549</td>\n",
       "      <td>3549</td>\n",
       "      <td>3549</td>\n",
       "      <td>3549</td>\n",
       "      <td>3549</td>\n",
       "      <td>3549</td>\n",
       "    </tr>\n",
       "    <tr>\n",
       "      <th>unique</th>\n",
       "      <td>1</td>\n",
       "      <td>1</td>\n",
       "      <td>1</td>\n",
       "      <td>1</td>\n",
       "      <td>1</td>\n",
       "      <td>1</td>\n",
       "      <td>1</td>\n",
       "    </tr>\n",
       "    <tr>\n",
       "      <th>top</th>\n",
       "      <td>True</td>\n",
       "      <td>True</td>\n",
       "      <td>True</td>\n",
       "      <td>True</td>\n",
       "      <td>False</td>\n",
       "      <td>False</td>\n",
       "      <td>True</td>\n",
       "    </tr>\n",
       "    <tr>\n",
       "      <th>freq</th>\n",
       "      <td>3549</td>\n",
       "      <td>3549</td>\n",
       "      <td>3549</td>\n",
       "      <td>3549</td>\n",
       "      <td>3549</td>\n",
       "      <td>3549</td>\n",
       "      <td>3549</td>\n",
       "    </tr>\n",
       "  </tbody>\n",
       "</table>\n",
       "</div>"
      ],
      "text/plain": [
       "          ID Datetime Sensor1_PM2.5 Sensor2_PM2.5 Temperature  \\\n",
       "count   3549     3549          3549          3549        3549   \n",
       "unique     1        1             1             1           1   \n",
       "top     True     True          True          True       False   \n",
       "freq    3549     3549          3549          3549        3549   \n",
       "\n",
       "       Relative_Humidity Offset_fault  \n",
       "count               3549         3549  \n",
       "unique                 1            1  \n",
       "top                False         True  \n",
       "freq                3549         3549  "
      ]
     },
     "execution_count": 23,
     "metadata": {},
     "output_type": "execute_result"
    }
   ],
   "source": [
    "(train[missing_humidity]==train[missing_humidity]).describe()"
   ]
  },
  {
   "cell_type": "code",
   "execution_count": 24,
   "id": "846d14fd",
   "metadata": {},
   "outputs": [
    {
     "data": {
      "text/html": [
       "<div>\n",
       "<style scoped>\n",
       "    .dataframe tbody tr th:only-of-type {\n",
       "        vertical-align: middle;\n",
       "    }\n",
       "\n",
       "    .dataframe tbody tr th {\n",
       "        vertical-align: top;\n",
       "    }\n",
       "\n",
       "    .dataframe thead th {\n",
       "        text-align: right;\n",
       "    }\n",
       "</style>\n",
       "<table border=\"1\" class=\"dataframe\">\n",
       "  <thead>\n",
       "    <tr style=\"text-align: right;\">\n",
       "      <th></th>\n",
       "      <th>Sensor1_PM2.5</th>\n",
       "      <th>Sensor2_PM2.5</th>\n",
       "      <th>Temperature</th>\n",
       "      <th>Relative_Humidity</th>\n",
       "      <th>Offset_fault</th>\n",
       "    </tr>\n",
       "  </thead>\n",
       "  <tbody>\n",
       "    <tr>\n",
       "      <th>count</th>\n",
       "      <td>3549.00000</td>\n",
       "      <td>3549.00000</td>\n",
       "      <td>0.00000</td>\n",
       "      <td>0.00000</td>\n",
       "      <td>3549.00000</td>\n",
       "    </tr>\n",
       "    <tr>\n",
       "      <th>mean</th>\n",
       "      <td>28.42436</td>\n",
       "      <td>27.07261</td>\n",
       "      <td>NaN</td>\n",
       "      <td>NaN</td>\n",
       "      <td>0.44548</td>\n",
       "    </tr>\n",
       "    <tr>\n",
       "      <th>std</th>\n",
       "      <td>17.97318</td>\n",
       "      <td>18.56210</td>\n",
       "      <td>NaN</td>\n",
       "      <td>NaN</td>\n",
       "      <td>0.49709</td>\n",
       "    </tr>\n",
       "    <tr>\n",
       "      <th>min</th>\n",
       "      <td>3.90000</td>\n",
       "      <td>1.67000</td>\n",
       "      <td>NaN</td>\n",
       "      <td>NaN</td>\n",
       "      <td>0.00000</td>\n",
       "    </tr>\n",
       "    <tr>\n",
       "      <th>25%</th>\n",
       "      <td>16.45000</td>\n",
       "      <td>14.22000</td>\n",
       "      <td>NaN</td>\n",
       "      <td>NaN</td>\n",
       "      <td>0.00000</td>\n",
       "    </tr>\n",
       "    <tr>\n",
       "      <th>50%</th>\n",
       "      <td>26.35000</td>\n",
       "      <td>23.97000</td>\n",
       "      <td>NaN</td>\n",
       "      <td>NaN</td>\n",
       "      <td>0.00000</td>\n",
       "    </tr>\n",
       "    <tr>\n",
       "      <th>75%</th>\n",
       "      <td>35.23000</td>\n",
       "      <td>36.00000</td>\n",
       "      <td>NaN</td>\n",
       "      <td>NaN</td>\n",
       "      <td>1.00000</td>\n",
       "    </tr>\n",
       "    <tr>\n",
       "      <th>max</th>\n",
       "      <td>154.85000</td>\n",
       "      <td>153.73000</td>\n",
       "      <td>NaN</td>\n",
       "      <td>NaN</td>\n",
       "      <td>1.00000</td>\n",
       "    </tr>\n",
       "  </tbody>\n",
       "</table>\n",
       "</div>"
      ],
      "text/plain": [
       "       Sensor1_PM2.5  Sensor2_PM2.5  Temperature  Relative_Humidity  \\\n",
       "count     3549.00000     3549.00000      0.00000            0.00000   \n",
       "mean        28.42436       27.07261          NaN                NaN   \n",
       "std         17.97318       18.56210          NaN                NaN   \n",
       "min          3.90000        1.67000          NaN                NaN   \n",
       "25%         16.45000       14.22000          NaN                NaN   \n",
       "50%         26.35000       23.97000          NaN                NaN   \n",
       "75%         35.23000       36.00000          NaN                NaN   \n",
       "max        154.85000      153.73000          NaN                NaN   \n",
       "\n",
       "       Offset_fault  \n",
       "count    3549.00000  \n",
       "mean        0.44548  \n",
       "std         0.49709  \n",
       "min         0.00000  \n",
       "25%         0.00000  \n",
       "50%         0.00000  \n",
       "75%         1.00000  \n",
       "max         1.00000  "
      ]
     },
     "execution_count": 24,
     "metadata": {},
     "output_type": "execute_result"
    }
   ],
   "source": [
    "train[missing_temparature].describe()"
   ]
  },
  {
   "cell_type": "code",
   "execution_count": 25,
   "id": "ff59b458",
   "metadata": {},
   "outputs": [
    {
     "data": {
      "text/plain": [
       "Datetime\n",
       "2021-10-30    252\n",
       "2021-11-24    318\n",
       "2021-11-26    180\n",
       "2021-11-30    290\n",
       "2021-12-21    403\n",
       "2021-12-23    327\n",
       "2021-12-29    315\n",
       "2022-01-08    455\n",
       "2022-01-09    104\n",
       "2022-01-12    526\n",
       "2022-01-19    379\n",
       "Name: ID, dtype: int64"
      ]
     },
     "execution_count": 25,
     "metadata": {},
     "output_type": "execute_result"
    }
   ],
   "source": [
    "train[missing_temparature].groupby(train['Datetime'].dt.floor('d'))['ID'].count()"
   ]
  },
  {
   "cell_type": "markdown",
   "id": "7744741b",
   "metadata": {},
   "source": [
    "The plots for the temperature and the humidity are skewed so I believe imputing the median is the best option for these values ."
   ]
  },
  {
   "cell_type": "markdown",
   "id": "a8283bb9",
   "metadata": {},
   "source": [
    "### Offset fault"
   ]
  },
  {
   "cell_type": "code",
   "execution_count": 26,
   "id": "121ad370",
   "metadata": {},
   "outputs": [
    {
     "name": "stdout",
     "output_type": "stream",
     "text": [
      "<class 'pandas.core.frame.DataFrame'>\n",
      "Int64Index: 0 entries\n",
      "Data columns (total 7 columns):\n",
      " #   Column             Non-Null Count  Dtype         \n",
      "---  ------             --------------  -----         \n",
      " 0   ID                 0 non-null      object        \n",
      " 1   Datetime           0 non-null      datetime64[ns]\n",
      " 2   Sensor1_PM2.5      0 non-null      float64       \n",
      " 3   Sensor2_PM2.5      0 non-null      float64       \n",
      " 4   Temperature        0 non-null      float64       \n",
      " 5   Relative_Humidity  0 non-null      float64       \n",
      " 6   Offset_fault       0 non-null      int64         \n",
      "dtypes: datetime64[ns](1), float64(4), int64(1), object(1)\n",
      "memory usage: 0.0+ bytes\n"
     ]
    }
   ],
   "source": [
    "missing_fault=offset_fault.isnull()\n",
    "train[missing_fault].info()"
   ]
  },
  {
   "cell_type": "markdown",
   "id": "edc22627",
   "metadata": {},
   "source": [
    "Offset fault has no missing values"
   ]
  },
  {
   "cell_type": "markdown",
   "id": "4045471a",
   "metadata": {},
   "source": [
    "## Replacing Missing values with the median"
   ]
  },
  {
   "cell_type": "markdown",
   "id": "f2e0789f",
   "metadata": {},
   "source": [
    "I found while doing my EDA that the columns with missing data are all skewed you can see this by just looking at the mean and the 50%-median of the data and that difference tells you to which side the data is skewed left or right. Since the coulumns are skewed it would not be wise for me to impute the mean for the missing values as the mean is influenced by outliers and can lead to the shape of the coulumns being changed and an innacurate ml prediction later due to the training set being negatively influenced."
   ]
  },
  {
   "cell_type": "code",
   "execution_count": 27,
   "id": "5fcc28cf",
   "metadata": {},
   "outputs": [],
   "source": [
    "#train.dropna(inplace=True)"
   ]
  },
  {
   "cell_type": "code",
   "execution_count": 28,
   "id": "5da3d0b8",
   "metadata": {},
   "outputs": [
    {
     "name": "stdout",
     "output_type": "stream",
     "text": [
      "{'Sensor1_PM2.5': 36.47, 'Sensor2_PM2.5': 33.72, 'Temperature': 21.9, 'Relative_Humidity': 84.0}\n"
     ]
    }
   ],
   "source": [
    "values = {'Sensor1_PM2.5': train['Sensor1_PM2.5'].median(), 'Sensor2_PM2.5':train['Sensor2_PM2.5'].median(), 'Temperature': train['Temperature'].median(), 'Relative_Humidity': train['Relative_Humidity'].median()}\n",
    "print(values)"
   ]
  },
  {
   "cell_type": "code",
   "execution_count": 29,
   "id": "1687ca11",
   "metadata": {},
   "outputs": [],
   "source": [
    "#Train\n",
    "train.fillna(value=values,inplace=True)\n",
    "#Test\n",
    "test.fillna(value=values,inplace=True)"
   ]
  },
  {
   "cell_type": "code",
   "execution_count": 30,
   "id": "f92bc5e0",
   "metadata": {},
   "outputs": [
    {
     "data": {
      "text/plain": [
       "(297177, 7)"
      ]
     },
     "execution_count": 30,
     "metadata": {},
     "output_type": "execute_result"
    }
   ],
   "source": [
    "train.shape"
   ]
  },
  {
   "cell_type": "code",
   "execution_count": 31,
   "id": "4381191e",
   "metadata": {},
   "outputs": [
    {
     "data": {
      "text/plain": [
       "(127361, 6)"
      ]
     },
     "execution_count": 31,
     "metadata": {},
     "output_type": "execute_result"
    }
   ],
   "source": [
    "test.shape"
   ]
  },
  {
   "cell_type": "markdown",
   "id": "ae8e97a3",
   "metadata": {},
   "source": [
    "filling in the missing values removed the offset_fault column and removed multiple rows I do not know how to solve this conundrum I want it back and so my next step will be putting it back into the dataframe so I don't have to do extra steps when i am doing the train test split later on."
   ]
  },
  {
   "cell_type": "code",
   "execution_count": 32,
   "id": "d39b34cf",
   "metadata": {},
   "outputs": [
    {
     "data": {
      "text/html": [
       "<div>\n",
       "<style scoped>\n",
       "    .dataframe tbody tr th:only-of-type {\n",
       "        vertical-align: middle;\n",
       "    }\n",
       "\n",
       "    .dataframe tbody tr th {\n",
       "        vertical-align: top;\n",
       "    }\n",
       "\n",
       "    .dataframe thead th {\n",
       "        text-align: right;\n",
       "    }\n",
       "</style>\n",
       "<table border=\"1\" class=\"dataframe\">\n",
       "  <thead>\n",
       "    <tr style=\"text-align: right;\">\n",
       "      <th></th>\n",
       "      <th>Sensor1_PM2.5</th>\n",
       "      <th>Sensor2_PM2.5</th>\n",
       "      <th>Temperature</th>\n",
       "      <th>Relative_Humidity</th>\n",
       "      <th>Offset_fault</th>\n",
       "    </tr>\n",
       "  </thead>\n",
       "  <tbody>\n",
       "    <tr>\n",
       "      <th>count</th>\n",
       "      <td>297177.00000</td>\n",
       "      <td>297177.00000</td>\n",
       "      <td>297177.00000</td>\n",
       "      <td>297177.00000</td>\n",
       "      <td>297177.00000</td>\n",
       "    </tr>\n",
       "    <tr>\n",
       "      <th>mean</th>\n",
       "      <td>40.69913</td>\n",
       "      <td>38.12874</td>\n",
       "      <td>23.29964</td>\n",
       "      <td>78.71747</td>\n",
       "      <td>0.37107</td>\n",
       "    </tr>\n",
       "    <tr>\n",
       "      <th>std</th>\n",
       "      <td>28.35608</td>\n",
       "      <td>28.47724</td>\n",
       "      <td>3.81709</td>\n",
       "      <td>14.69573</td>\n",
       "      <td>0.48309</td>\n",
       "    </tr>\n",
       "    <tr>\n",
       "      <th>min</th>\n",
       "      <td>-9.45000</td>\n",
       "      <td>-9.70000</td>\n",
       "      <td>16.70000</td>\n",
       "      <td>27.00000</td>\n",
       "      <td>0.00000</td>\n",
       "    </tr>\n",
       "    <tr>\n",
       "      <th>25%</th>\n",
       "      <td>22.65000</td>\n",
       "      <td>19.70000</td>\n",
       "      <td>20.40000</td>\n",
       "      <td>68.00000</td>\n",
       "      <td>0.00000</td>\n",
       "    </tr>\n",
       "    <tr>\n",
       "      <th>50%</th>\n",
       "      <td>36.47000</td>\n",
       "      <td>33.72000</td>\n",
       "      <td>21.90000</td>\n",
       "      <td>84.00000</td>\n",
       "      <td>0.00000</td>\n",
       "    </tr>\n",
       "    <tr>\n",
       "      <th>75%</th>\n",
       "      <td>49.22000</td>\n",
       "      <td>47.38000</td>\n",
       "      <td>26.30000</td>\n",
       "      <td>91.00000</td>\n",
       "      <td>1.00000</td>\n",
       "    </tr>\n",
       "    <tr>\n",
       "      <th>max</th>\n",
       "      <td>997.96000</td>\n",
       "      <td>997.26000</td>\n",
       "      <td>34.90000</td>\n",
       "      <td>99.00000</td>\n",
       "      <td>1.00000</td>\n",
       "    </tr>\n",
       "  </tbody>\n",
       "</table>\n",
       "</div>"
      ],
      "text/plain": [
       "       Sensor1_PM2.5  Sensor2_PM2.5  Temperature  Relative_Humidity  \\\n",
       "count   297177.00000   297177.00000 297177.00000       297177.00000   \n",
       "mean        40.69913       38.12874     23.29964           78.71747   \n",
       "std         28.35608       28.47724      3.81709           14.69573   \n",
       "min         -9.45000       -9.70000     16.70000           27.00000   \n",
       "25%         22.65000       19.70000     20.40000           68.00000   \n",
       "50%         36.47000       33.72000     21.90000           84.00000   \n",
       "75%         49.22000       47.38000     26.30000           91.00000   \n",
       "max        997.96000      997.26000     34.90000           99.00000   \n",
       "\n",
       "       Offset_fault  \n",
       "count  297177.00000  \n",
       "mean        0.37107  \n",
       "std         0.48309  \n",
       "min         0.00000  \n",
       "25%         0.00000  \n",
       "50%         0.00000  \n",
       "75%         1.00000  \n",
       "max         1.00000  "
      ]
     },
     "execution_count": 32,
     "metadata": {},
     "output_type": "execute_result"
    }
   ],
   "source": [
    "train.describe()"
   ]
  },
  {
   "cell_type": "code",
   "execution_count": 33,
   "id": "cb934e76",
   "metadata": {
    "scrolled": true
   },
   "outputs": [
    {
     "name": "stdout",
     "output_type": "stream",
     "text": [
      "<class 'pandas.core.frame.DataFrame'>\n",
      "RangeIndex: 297177 entries, 0 to 297176\n",
      "Data columns (total 7 columns):\n",
      " #   Column             Non-Null Count   Dtype         \n",
      "---  ------             --------------   -----         \n",
      " 0   ID                 297177 non-null  object        \n",
      " 1   Datetime           297177 non-null  datetime64[ns]\n",
      " 2   Sensor1_PM2.5      297177 non-null  float64       \n",
      " 3   Sensor2_PM2.5      297177 non-null  float64       \n",
      " 4   Temperature        297177 non-null  float64       \n",
      " 5   Relative_Humidity  297177 non-null  float64       \n",
      " 6   Offset_fault       297177 non-null  int64         \n",
      "dtypes: datetime64[ns](1), float64(4), int64(1), object(1)\n",
      "memory usage: 15.9+ MB\n"
     ]
    }
   ],
   "source": [
    "train.info()"
   ]
  },
  {
   "cell_type": "code",
   "execution_count": 34,
   "id": "9d2e15bb",
   "metadata": {},
   "outputs": [
    {
     "data": {
      "text/html": [
       "<div>\n",
       "<style scoped>\n",
       "    .dataframe tbody tr th:only-of-type {\n",
       "        vertical-align: middle;\n",
       "    }\n",
       "\n",
       "    .dataframe tbody tr th {\n",
       "        vertical-align: top;\n",
       "    }\n",
       "\n",
       "    .dataframe thead th {\n",
       "        text-align: right;\n",
       "    }\n",
       "</style>\n",
       "<table border=\"1\" class=\"dataframe\">\n",
       "  <thead>\n",
       "    <tr style=\"text-align: right;\">\n",
       "      <th></th>\n",
       "      <th>ID</th>\n",
       "      <th>Datetime</th>\n",
       "      <th>Sensor1_PM2.5</th>\n",
       "      <th>Sensor2_PM2.5</th>\n",
       "      <th>Temperature</th>\n",
       "      <th>Relative_Humidity</th>\n",
       "      <th>Offset_fault</th>\n",
       "    </tr>\n",
       "  </thead>\n",
       "  <tbody>\n",
       "    <tr>\n",
       "      <th>0</th>\n",
       "      <td>ID_QF0ZTQJ2SF5Q</td>\n",
       "      <td>2021-11-03 04:06:31</td>\n",
       "      <td>52.58000</td>\n",
       "      <td>49.52000</td>\n",
       "      <td>17.40000</td>\n",
       "      <td>96.00000</td>\n",
       "      <td>0</td>\n",
       "    </tr>\n",
       "    <tr>\n",
       "      <th>1</th>\n",
       "      <td>ID_4GTK689CNX5S</td>\n",
       "      <td>2021-11-08 18:43:23</td>\n",
       "      <td>35.25000</td>\n",
       "      <td>33.40000</td>\n",
       "      <td>25.00000</td>\n",
       "      <td>75.00000</td>\n",
       "      <td>0</td>\n",
       "    </tr>\n",
       "    <tr>\n",
       "      <th>2</th>\n",
       "      <td>ID_DL7VVKW9U7XQ</td>\n",
       "      <td>2021-11-07 09:50:33</td>\n",
       "      <td>19.18000</td>\n",
       "      <td>23.50000</td>\n",
       "      <td>24.90000</td>\n",
       "      <td>75.00000</td>\n",
       "      <td>0</td>\n",
       "    </tr>\n",
       "    <tr>\n",
       "      <th>3</th>\n",
       "      <td>ID_6XQOMBXM2DG3</td>\n",
       "      <td>2022-01-01 18:55:15</td>\n",
       "      <td>19.40000</td>\n",
       "      <td>15.48000</td>\n",
       "      <td>24.90000</td>\n",
       "      <td>70.00000</td>\n",
       "      <td>0</td>\n",
       "    </tr>\n",
       "    <tr>\n",
       "      <th>4</th>\n",
       "      <td>ID_UQZW9ISJY9QE</td>\n",
       "      <td>2021-11-05 22:23:48</td>\n",
       "      <td>38.30000</td>\n",
       "      <td>34.77000</td>\n",
       "      <td>20.90000</td>\n",
       "      <td>89.00000</td>\n",
       "      <td>0</td>\n",
       "    </tr>\n",
       "  </tbody>\n",
       "</table>\n",
       "</div>"
      ],
      "text/plain": [
       "                ID            Datetime  Sensor1_PM2.5  Sensor2_PM2.5  \\\n",
       "0  ID_QF0ZTQJ2SF5Q 2021-11-03 04:06:31       52.58000       49.52000   \n",
       "1  ID_4GTK689CNX5S 2021-11-08 18:43:23       35.25000       33.40000   \n",
       "2  ID_DL7VVKW9U7XQ 2021-11-07 09:50:33       19.18000       23.50000   \n",
       "3  ID_6XQOMBXM2DG3 2022-01-01 18:55:15       19.40000       15.48000   \n",
       "4  ID_UQZW9ISJY9QE 2021-11-05 22:23:48       38.30000       34.77000   \n",
       "\n",
       "   Temperature  Relative_Humidity  Offset_fault  \n",
       "0     17.40000           96.00000             0  \n",
       "1     25.00000           75.00000             0  \n",
       "2     24.90000           75.00000             0  \n",
       "3     24.90000           70.00000             0  \n",
       "4     20.90000           89.00000             0  "
      ]
     },
     "execution_count": 34,
     "metadata": {},
     "output_type": "execute_result"
    }
   ],
   "source": [
    "train.head()"
   ]
  },
  {
   "cell_type": "markdown",
   "id": "69716492",
   "metadata": {},
   "source": [
    "### Checking the data"
   ]
  },
  {
   "cell_type": "code",
   "execution_count": 35,
   "id": "0bbea1bb",
   "metadata": {},
   "outputs": [],
   "source": [
    "sensor1_filled = train['Sensor1_PM2.5']\n",
    "sensor2_filled = train['Sensor2_PM2.5']\n",
    "temperature_filled = train['Temperature']\n",
    "humidity_filled = train['Relative_Humidity']"
   ]
  },
  {
   "cell_type": "code",
   "execution_count": 36,
   "id": "152a3b78",
   "metadata": {},
   "outputs": [
    {
     "data": {
      "text/plain": [
       "[<matplotlib.lines.Line2D at 0x1c73a945d60>]"
      ]
     },
     "execution_count": 36,
     "metadata": {},
     "output_type": "execute_result"
    },
    {
     "data": {
      "image/png": "[encoded data removed]",
      "text/plain": [
       "<Figure size 432x288 with 1 Axes>"
      ]
     },
     "metadata": {
      "needs_background": "light"
     },
     "output_type": "display_data"
    }
   ],
   "source": [
    "plt.plot(sensor1_filled.value_counts().sort_index())"
   ]
  },
  {
   "cell_type": "code",
   "execution_count": 37,
   "id": "99677623",
   "metadata": {},
   "outputs": [
    {
     "data": {
      "text/plain": [
       "[<matplotlib.lines.Line2D at 0x1c73ab280d0>]"
      ]
     },
     "execution_count": 37,
     "metadata": {},
     "output_type": "execute_result"
    },
    {
     "data": {
      "image/png": "[encoded data removed]",
      "text/plain": [
       "<Figure size 432x288 with 1 Axes>"
      ]
     },
     "metadata": {
      "needs_background": "light"
     },
     "output_type": "display_data"
    }
   ],
   "source": [
    "plt.plot(sensor2_filled.value_counts().sort_index())"
   ]
  },
  {
   "cell_type": "code",
   "execution_count": 38,
   "id": "78b520bd",
   "metadata": {},
   "outputs": [
    {
     "data": {
      "text/plain": [
       "[<matplotlib.lines.Line2D at 0x1c73ab95430>]"
      ]
     },
     "execution_count": 38,
     "metadata": {},
     "output_type": "execute_result"
    },
    {
     "data": {
      "image/png": "[encoded data removed]",
      "text/plain": [
       "<Figure size 432x288 with 1 Axes>"
      ]
     },
     "metadata": {
      "needs_background": "light"
     },
     "output_type": "display_data"
    }
   ],
   "source": [
    "plt.plot(temperature_filled.value_counts().sort_index())"
   ]
  },
  {
   "cell_type": "code",
   "execution_count": 39,
   "id": "d78f8340",
   "metadata": {},
   "outputs": [
    {
     "data": {
      "text/plain": [
       "[<matplotlib.lines.Line2D at 0x1c73abead30>]"
      ]
     },
     "execution_count": 39,
     "metadata": {},
     "output_type": "execute_result"
    },
    {
     "data": {
      "image/png": "[encoded data removed]",
      "text/plain": [
       "<Figure size 432x288 with 1 Axes>"
      ]
     },
     "metadata": {
      "needs_background": "light"
     },
     "output_type": "display_data"
    }
   ],
   "source": [
    "plt.plot(humidity_filled.value_counts().sort_index())"
   ]
  },
  {
   "cell_type": "markdown",
   "id": "e9bb8108",
   "metadata": {},
   "source": [
    "Even though some metrics are alterd we expected this to happen naturaly as you assign values to values that had no value the mean and median are shifted a bit but this is acceptable. But I still need to validate that I have not made a grave error in the way I proceeded so now I will drop the NAN values from a copy table I created earlier. this is not Ideal but since I have the space to accomodate both datasets I see it as fine.What I am expecting to see is a similar summary (.describe()) between the data set with a drop value and the one with the filled in values."
   ]
  },
  {
   "cell_type": "code",
   "execution_count": 40,
   "id": "63c22a22",
   "metadata": {},
   "outputs": [],
   "source": [
    "train_copy.dropna(inplace=True)"
   ]
  },
  {
   "cell_type": "code",
   "execution_count": 41,
   "id": "86b2a3b4",
   "metadata": {
    "scrolled": true
   },
   "outputs": [
    {
     "data": {
      "text/html": [
       "<div>\n",
       "<style scoped>\n",
       "    .dataframe tbody tr th:only-of-type {\n",
       "        vertical-align: middle;\n",
       "    }\n",
       "\n",
       "    .dataframe tbody tr th {\n",
       "        vertical-align: top;\n",
       "    }\n",
       "\n",
       "    .dataframe thead th {\n",
       "        text-align: right;\n",
       "    }\n",
       "</style>\n",
       "<table border=\"1\" class=\"dataframe\">\n",
       "  <thead>\n",
       "    <tr style=\"text-align: right;\">\n",
       "      <th></th>\n",
       "      <th>Sensor1_PM2.5</th>\n",
       "      <th>Sensor2_PM2.5</th>\n",
       "      <th>Temperature</th>\n",
       "      <th>Relative_Humidity</th>\n",
       "      <th>Offset_fault</th>\n",
       "    </tr>\n",
       "  </thead>\n",
       "  <tbody>\n",
       "    <tr>\n",
       "      <th>count</th>\n",
       "      <td>290014.00000</td>\n",
       "      <td>290014.00000</td>\n",
       "      <td>290014.00000</td>\n",
       "      <td>290014.00000</td>\n",
       "      <td>290014.00000</td>\n",
       "    </tr>\n",
       "    <tr>\n",
       "      <th>mean</th>\n",
       "      <td>40.90204</td>\n",
       "      <td>38.31898</td>\n",
       "      <td>23.32274</td>\n",
       "      <td>78.61439</td>\n",
       "      <td>0.36947</td>\n",
       "    </tr>\n",
       "    <tr>\n",
       "      <th>std</th>\n",
       "      <td>28.59837</td>\n",
       "      <td>28.72269</td>\n",
       "      <td>3.84195</td>\n",
       "      <td>14.79190</td>\n",
       "      <td>0.48266</td>\n",
       "    </tr>\n",
       "    <tr>\n",
       "      <th>min</th>\n",
       "      <td>-9.45000</td>\n",
       "      <td>-9.70000</td>\n",
       "      <td>16.70000</td>\n",
       "      <td>27.00000</td>\n",
       "      <td>0.00000</td>\n",
       "    </tr>\n",
       "    <tr>\n",
       "      <th>25%</th>\n",
       "      <td>22.57000</td>\n",
       "      <td>19.62000</td>\n",
       "      <td>20.40000</td>\n",
       "      <td>68.00000</td>\n",
       "      <td>0.00000</td>\n",
       "    </tr>\n",
       "    <tr>\n",
       "      <th>50%</th>\n",
       "      <td>36.65000</td>\n",
       "      <td>33.85000</td>\n",
       "      <td>21.90000</td>\n",
       "      <td>84.00000</td>\n",
       "      <td>0.00000</td>\n",
       "    </tr>\n",
       "    <tr>\n",
       "      <th>75%</th>\n",
       "      <td>49.55000</td>\n",
       "      <td>47.70000</td>\n",
       "      <td>26.30000</td>\n",
       "      <td>91.00000</td>\n",
       "      <td>1.00000</td>\n",
       "    </tr>\n",
       "    <tr>\n",
       "      <th>max</th>\n",
       "      <td>997.96000</td>\n",
       "      <td>997.26000</td>\n",
       "      <td>34.90000</td>\n",
       "      <td>99.00000</td>\n",
       "      <td>1.00000</td>\n",
       "    </tr>\n",
       "  </tbody>\n",
       "</table>\n",
       "</div>"
      ],
      "text/plain": [
       "       Sensor1_PM2.5  Sensor2_PM2.5  Temperature  Relative_Humidity  \\\n",
       "count   290014.00000   290014.00000 290014.00000       290014.00000   \n",
       "mean        40.90204       38.31898     23.32274           78.61439   \n",
       "std         28.59837       28.72269      3.84195           14.79190   \n",
       "min         -9.45000       -9.70000     16.70000           27.00000   \n",
       "25%         22.57000       19.62000     20.40000           68.00000   \n",
       "50%         36.65000       33.85000     21.90000           84.00000   \n",
       "75%         49.55000       47.70000     26.30000           91.00000   \n",
       "max        997.96000      997.26000     34.90000           99.00000   \n",
       "\n",
       "       Offset_fault  \n",
       "count  290014.00000  \n",
       "mean        0.36947  \n",
       "std         0.48266  \n",
       "min         0.00000  \n",
       "25%         0.00000  \n",
       "50%         0.00000  \n",
       "75%         1.00000  \n",
       "max         1.00000  "
      ]
     },
     "execution_count": 41,
     "metadata": {},
     "output_type": "execute_result"
    }
   ],
   "source": [
    "train_copy.describe()"
   ]
  },
  {
   "cell_type": "markdown",
   "id": "47211abb",
   "metadata": {},
   "source": [
    "We see that there is a disparity between the database with the filled values and the database with the dropped values I will use the grader to see which method is the best for handling this disparity."
   ]
  },
  {
   "cell_type": "markdown",
   "id": "b7d597e1",
   "metadata": {},
   "source": [
    "From the data provided we can see that the target variable Offset_fault has a value of 36,94% from the train copy data this shows that 36,94 % of the sensors are not working and this value is "
   ]
  },
  {
   "cell_type": "markdown",
   "id": "0f07e862",
   "metadata": {},
   "source": [
    "## Differences between sensor 1 and 2"
   ]
  },
  {
   "cell_type": "code",
   "execution_count": 42,
   "id": "e5601f8a",
   "metadata": {},
   "outputs": [
    {
     "data": {
      "text/plain": [
       "False"
      ]
     },
     "execution_count": 42,
     "metadata": {},
     "output_type": "execute_result"
    }
   ],
   "source": [
    "((train['Sensor1_PM2.5'].mean()+train['Sensor2_PM2.5'].mean())/2)==((train_copy['Sensor1_PM2.5'].mean()+train_copy['Sensor2_PM2.5'].mean())/2)"
   ]
  },
  {
   "cell_type": "code",
   "execution_count": 43,
   "id": "82382c50",
   "metadata": {},
   "outputs": [
    {
     "data": {
      "text/plain": [
       "False"
      ]
     },
     "execution_count": 43,
     "metadata": {},
     "output_type": "execute_result"
    }
   ],
   "source": [
    "((train['Sensor1_PM2.5'].median()+train['Sensor2_PM2.5'].median())/2)==((train_copy['Sensor1_PM2.5'].median()+train_copy['Sensor2_PM2.5'].median())/2)"
   ]
  },
  {
   "cell_type": "markdown",
   "id": "7284fe73",
   "metadata": {},
   "source": [
    "mean and median of the filled in comparison with the mean and median of the dropped missing values data"
   ]
  },
  {
   "cell_type": "code",
   "execution_count": 44,
   "id": "71a4aac2",
   "metadata": {},
   "outputs": [
    {
     "name": "stdout",
     "output_type": "stream",
     "text": [
      "39.413937182219684 35.095\n",
      "difference\n",
      "39.6105115787514 35.25\n"
     ]
    }
   ],
   "source": [
    "print(((train['Sensor1_PM2.5'].mean()+train['Sensor2_PM2.5'].mean())/2),((train['Sensor1_PM2.5'].median()+train['Sensor2_PM2.5'].median())/2))\n",
    "print(\"difference\")\n",
    "print(((train_copy['Sensor1_PM2.5'].mean()+train_copy['Sensor2_PM2.5'].mean())/2),((train_copy['Sensor1_PM2.5'].median()+train_copy['Sensor2_PM2.5'].median())/2) )"
   ]
  },
  {
   "cell_type": "code",
   "execution_count": 45,
   "id": "15bb35d7",
   "metadata": {},
   "outputs": [],
   "source": [
    "# Train\n",
    "train['Sensor_average']=(train['Sensor1_PM2.5']+train['Sensor2_PM2.5'])/2\n",
    "# Test\n",
    "test['Sensor_average']=(test['Sensor1_PM2.5']+test['Sensor2_PM2.5'])/2"
   ]
  },
  {
   "cell_type": "markdown",
   "id": "4b53d585",
   "metadata": {},
   "source": [
    "The means of the two databases are identical and their medians too but i will look at it more in debth when predicting "
   ]
  },
  {
   "cell_type": "code",
   "execution_count": 46,
   "id": "b9d58950",
   "metadata": {},
   "outputs": [
    {
     "data": {
      "text/plain": [
       "(297177, 8)"
      ]
     },
     "execution_count": 46,
     "metadata": {},
     "output_type": "execute_result"
    }
   ],
   "source": [
    "train.shape"
   ]
  },
  {
   "cell_type": "code",
   "execution_count": 47,
   "id": "c995f9f2",
   "metadata": {},
   "outputs": [
    {
     "data": {
      "text/plain": [
       "(290014, 7)"
      ]
     },
     "execution_count": 47,
     "metadata": {},
     "output_type": "execute_result"
    }
   ],
   "source": [
    "train_copy.shape"
   ]
  },
  {
   "cell_type": "markdown",
   "id": "17b3e7cd",
   "metadata": {},
   "source": [
    "## Prepping for Machine learning"
   ]
  },
  {
   "cell_type": "markdown",
   "id": "602b7d31",
   "metadata": {},
   "source": [
    "I want my data to be as close as possible to a normal distribution as possible before we engage in machine learning so there are two ways to go about this using a transformer on the data in the machine learning pipeline or transforming the data before machine learning even starts. I will be transforming the data before engaging in machine learning for better piece of mind and so that I can internally also be present in the moment"
   ]
  },
  {
   "cell_type": "code",
   "execution_count": 48,
   "id": "85024a3d",
   "metadata": {},
   "outputs": [],
   "source": [
    "#Train\n",
    "train['natural_log_Sensor1'] = np.log(train['Sensor1_PM2.5']+1)\n",
    "train['natural_log_Sensor2'] = np.log(train['Sensor2_PM2.5']+1)\n",
    "\n",
    "#Test\n",
    "test['natural_log_Sensor1'] = np.log(test['Sensor1_PM2.5']+1)\n",
    "test['natural_log_Sensor2'] = np.log(test['Sensor2_PM2.5']+1)"
   ]
  },
  {
   "cell_type": "code",
   "execution_count": 49,
   "id": "770eb9e7",
   "metadata": {
    "scrolled": false
   },
   "outputs": [
    {
     "data": {
      "text/plain": [
       "[<matplotlib.lines.Line2D at 0x1c7399fe5e0>]"
      ]
     },
     "execution_count": 49,
     "metadata": {},
     "output_type": "execute_result"
    },
    {
     "data": {
      "image/png": "[encoded data removed]",
      "text/plain": [
       "<Figure size 432x288 with 1 Axes>"
      ]
     },
     "metadata": {
      "needs_background": "light"
     },
     "output_type": "display_data"
    }
   ],
   "source": [
    "plt.plot(train['natural_log_Sensor1'].value_counts().sort_index())"
   ]
  },
  {
   "cell_type": "code",
   "execution_count": 50,
   "id": "7ecba0d0",
   "metadata": {},
   "outputs": [
    {
     "data": {
      "text/html": [
       "<div>\n",
       "<style scoped>\n",
       "    .dataframe tbody tr th:only-of-type {\n",
       "        vertical-align: middle;\n",
       "    }\n",
       "\n",
       "    .dataframe tbody tr th {\n",
       "        vertical-align: top;\n",
       "    }\n",
       "\n",
       "    .dataframe thead th {\n",
       "        text-align: right;\n",
       "    }\n",
       "</style>\n",
       "<table border=\"1\" class=\"dataframe\">\n",
       "  <thead>\n",
       "    <tr style=\"text-align: right;\">\n",
       "      <th></th>\n",
       "      <th>ID</th>\n",
       "      <th>Datetime</th>\n",
       "      <th>Sensor1_PM2.5</th>\n",
       "      <th>Sensor2_PM2.5</th>\n",
       "      <th>Temperature</th>\n",
       "      <th>Relative_Humidity</th>\n",
       "      <th>Offset_fault</th>\n",
       "      <th>Sensor_average</th>\n",
       "      <th>natural_log_Sensor1</th>\n",
       "      <th>natural_log_Sensor2</th>\n",
       "    </tr>\n",
       "  </thead>\n",
       "  <tbody>\n",
       "    <tr>\n",
       "      <th>0</th>\n",
       "      <td>ID_QF0ZTQJ2SF5Q</td>\n",
       "      <td>2021-11-03 04:06:31</td>\n",
       "      <td>52.58000</td>\n",
       "      <td>49.52000</td>\n",
       "      <td>17.40000</td>\n",
       "      <td>96.00000</td>\n",
       "      <td>0</td>\n",
       "      <td>51.05000</td>\n",
       "      <td>3.98118</td>\n",
       "      <td>3.92237</td>\n",
       "    </tr>\n",
       "    <tr>\n",
       "      <th>1</th>\n",
       "      <td>ID_4GTK689CNX5S</td>\n",
       "      <td>2021-11-08 18:43:23</td>\n",
       "      <td>35.25000</td>\n",
       "      <td>33.40000</td>\n",
       "      <td>25.00000</td>\n",
       "      <td>75.00000</td>\n",
       "      <td>0</td>\n",
       "      <td>34.32500</td>\n",
       "      <td>3.59044</td>\n",
       "      <td>3.53806</td>\n",
       "    </tr>\n",
       "    <tr>\n",
       "      <th>2</th>\n",
       "      <td>ID_DL7VVKW9U7XQ</td>\n",
       "      <td>2021-11-07 09:50:33</td>\n",
       "      <td>19.18000</td>\n",
       "      <td>23.50000</td>\n",
       "      <td>24.90000</td>\n",
       "      <td>75.00000</td>\n",
       "      <td>0</td>\n",
       "      <td>21.34000</td>\n",
       "      <td>3.00469</td>\n",
       "      <td>3.19867</td>\n",
       "    </tr>\n",
       "    <tr>\n",
       "      <th>3</th>\n",
       "      <td>ID_6XQOMBXM2DG3</td>\n",
       "      <td>2022-01-01 18:55:15</td>\n",
       "      <td>19.40000</td>\n",
       "      <td>15.48000</td>\n",
       "      <td>24.90000</td>\n",
       "      <td>70.00000</td>\n",
       "      <td>0</td>\n",
       "      <td>17.44000</td>\n",
       "      <td>3.01553</td>\n",
       "      <td>2.80215</td>\n",
       "    </tr>\n",
       "    <tr>\n",
       "      <th>4</th>\n",
       "      <td>ID_UQZW9ISJY9QE</td>\n",
       "      <td>2021-11-05 22:23:48</td>\n",
       "      <td>38.30000</td>\n",
       "      <td>34.77000</td>\n",
       "      <td>20.90000</td>\n",
       "      <td>89.00000</td>\n",
       "      <td>0</td>\n",
       "      <td>36.53500</td>\n",
       "      <td>3.67122</td>\n",
       "      <td>3.57711</td>\n",
       "    </tr>\n",
       "  </tbody>\n",
       "</table>\n",
       "</div>"
      ],
      "text/plain": [
       "                ID            Datetime  Sensor1_PM2.5  Sensor2_PM2.5  \\\n",
       "0  ID_QF0ZTQJ2SF5Q 2021-11-03 04:06:31       52.58000       49.52000   \n",
       "1  ID_4GTK689CNX5S 2021-11-08 18:43:23       35.25000       33.40000   \n",
       "2  ID_DL7VVKW9U7XQ 2021-11-07 09:50:33       19.18000       23.50000   \n",
       "3  ID_6XQOMBXM2DG3 2022-01-01 18:55:15       19.40000       15.48000   \n",
       "4  ID_UQZW9ISJY9QE 2021-11-05 22:23:48       38.30000       34.77000   \n",
       "\n",
       "   Temperature  Relative_Humidity  Offset_fault  Sensor_average  \\\n",
       "0     17.40000           96.00000             0        51.05000   \n",
       "1     25.00000           75.00000             0        34.32500   \n",
       "2     24.90000           75.00000             0        21.34000   \n",
       "3     24.90000           70.00000             0        17.44000   \n",
       "4     20.90000           89.00000             0        36.53500   \n",
       "\n",
       "   natural_log_Sensor1  natural_log_Sensor2  \n",
       "0              3.98118              3.92237  \n",
       "1              3.59044              3.53806  \n",
       "2              3.00469              3.19867  \n",
       "3              3.01553              2.80215  \n",
       "4              3.67122              3.57711  "
      ]
     },
     "execution_count": 50,
     "metadata": {},
     "output_type": "execute_result"
    }
   ],
   "source": [
    "train.head()"
   ]
  },
  {
   "cell_type": "markdown",
   "id": "bc14ca4a",
   "metadata": {},
   "source": [
    "I want to eliminate any natural log that falls in the +3 std from the mean range to get a better more harmonious looking natural distribution for thhe data and in so doing i will also be eliminating the extreme outliers in the data I will do this for the sensor1 and sensor2 coulumns numeric column in the dataframe. I will use PowerTransfromer for the humidity and temparature columns"
   ]
  },
  {
   "cell_type": "code",
   "execution_count": 51,
   "id": "73751778",
   "metadata": {},
   "outputs": [],
   "source": [
    "# Train\n",
    "\n",
    "train['z_score_Sensor1'] = abs((train['natural_log_Sensor1'] - train['natural_log_Sensor1'].mean())/train['natural_log_Sensor1'].std(ddof=0))\n",
    "train['z_score_Sensor2'] = abs((train['natural_log_Sensor2'] - train['natural_log_Sensor2'].mean())/train['natural_log_Sensor2'].std(ddof=0))\n",
    "\n",
    "# Test\n",
    "\n",
    "test['z_score_Sensor1'] = abs((test['natural_log_Sensor1'] - test['natural_log_Sensor1'].mean())/test['natural_log_Sensor1'].std(ddof=0))\n",
    "test['z_score_Sensor2'] = abs((test['natural_log_Sensor2'] - test['natural_log_Sensor2'].mean())/test['natural_log_Sensor2'].std(ddof=0))"
   ]
  },
  {
   "cell_type": "code",
   "execution_count": 52,
   "id": "f65d2653",
   "metadata": {
    "scrolled": true
   },
   "outputs": [
    {
     "data": {
      "text/plain": [
       "(297177, 12)"
      ]
     },
     "execution_count": 52,
     "metadata": {},
     "output_type": "execute_result"
    }
   ],
   "source": [
    "train.shape"
   ]
  },
  {
   "cell_type": "markdown",
   "id": "d70bb1d0",
   "metadata": {},
   "source": [
    "Adjustment done after ml\n",
    "I noticed that the code values the sensor 2 pm25 more than the other columns thus this leads me to think that if i can get the difference of this column with the sensor 1 coulmn column tha and get the standard deviation of that It could give my ml model more rigidity and backbone  "
   ]
  },
  {
   "cell_type": "code",
   "execution_count": 53,
   "id": "2bc3ad01",
   "metadata": {},
   "outputs": [],
   "source": [
    "#Train\n",
    "train['std_difference_sensor2_mean']= abs(train['Sensor1_PM2.5']-train['Sensor1_PM2.5'])\n",
    "train['std_difference_sensor2_mean']= train['std_difference_sensor2_mean'].std(ddof=0)\n",
    "\n",
    "#Test\n",
    "test['std_difference_sensor2_mean']= abs(test['Sensor1_PM2.5']-test['Sensor1_PM2.5'])\n",
    "test['std_difference_sensor2_mean']= test['std_difference_sensor2_mean'].std(ddof=0)"
   ]
  },
  {
   "cell_type": "markdown",
   "id": "57a8c891",
   "metadata": {},
   "source": [
    "I will be removing the outliers identified by that are outside 3 standard deviations from the mean"
   ]
  },
  {
   "cell_type": "code",
   "execution_count": 54,
   "id": "a6641498",
   "metadata": {},
   "outputs": [],
   "source": [
    "# Train\n",
    "train=train[train['z_score_Sensor1']<=3]\n",
    "train=train[train['z_score_Sensor2']<=3]\n",
    "#Test\n",
    "#test=test[test['z_score_Sensor1']<=3]\n",
    "#test=test[test['z_score_Sensor2']<=3]"
   ]
  },
  {
   "cell_type": "code",
   "execution_count": 55,
   "id": "c1c09e3e",
   "metadata": {
    "scrolled": true
   },
   "outputs": [
    {
     "data": {
      "text/plain": [
       "(295325, 13)"
      ]
     },
     "execution_count": 55,
     "metadata": {},
     "output_type": "execute_result"
    }
   ],
   "source": [
    "train.shape"
   ]
  },
  {
   "cell_type": "code",
   "execution_count": 56,
   "id": "2a63a8ee",
   "metadata": {},
   "outputs": [
    {
     "data": {
      "text/plain": [
       "(127361, 12)"
      ]
     },
     "execution_count": 56,
     "metadata": {},
     "output_type": "execute_result"
    }
   ],
   "source": [
    "test.shape"
   ]
  },
  {
   "cell_type": "code",
   "execution_count": 57,
   "id": "c9385bad",
   "metadata": {},
   "outputs": [
    {
     "data": {
      "text/html": [
       "<div>\n",
       "<style scoped>\n",
       "    .dataframe tbody tr th:only-of-type {\n",
       "        vertical-align: middle;\n",
       "    }\n",
       "\n",
       "    .dataframe tbody tr th {\n",
       "        vertical-align: top;\n",
       "    }\n",
       "\n",
       "    .dataframe thead th {\n",
       "        text-align: right;\n",
       "    }\n",
       "</style>\n",
       "<table border=\"1\" class=\"dataframe\">\n",
       "  <thead>\n",
       "    <tr style=\"text-align: right;\">\n",
       "      <th></th>\n",
       "      <th>Sensor1_PM2.5</th>\n",
       "      <th>Sensor2_PM2.5</th>\n",
       "      <th>Temperature</th>\n",
       "      <th>Relative_Humidity</th>\n",
       "      <th>Offset_fault</th>\n",
       "      <th>Sensor_average</th>\n",
       "      <th>natural_log_Sensor1</th>\n",
       "      <th>natural_log_Sensor2</th>\n",
       "      <th>z_score_Sensor1</th>\n",
       "      <th>z_score_Sensor2</th>\n",
       "      <th>std_difference_sensor2_mean</th>\n",
       "    </tr>\n",
       "  </thead>\n",
       "  <tbody>\n",
       "    <tr>\n",
       "      <th>count</th>\n",
       "      <td>295325.00000</td>\n",
       "      <td>295325.00000</td>\n",
       "      <td>295325.00000</td>\n",
       "      <td>295325.00000</td>\n",
       "      <td>295325.00000</td>\n",
       "      <td>295325.00000</td>\n",
       "      <td>295325.00000</td>\n",
       "      <td>295325.00000</td>\n",
       "      <td>295325.00000</td>\n",
       "      <td>295325.00000</td>\n",
       "      <td>295325.00000</td>\n",
       "    </tr>\n",
       "    <tr>\n",
       "      <th>mean</th>\n",
       "      <td>40.71572</td>\n",
       "      <td>38.13623</td>\n",
       "      <td>23.28425</td>\n",
       "      <td>78.76829</td>\n",
       "      <td>0.36875</td>\n",
       "      <td>39.42597</td>\n",
       "      <td>3.54783</td>\n",
       "      <td>3.45725</td>\n",
       "      <td>0.75471</td>\n",
       "      <td>0.76202</td>\n",
       "      <td>0.00000</td>\n",
       "    </tr>\n",
       "    <tr>\n",
       "      <th>std</th>\n",
       "      <td>26.04644</td>\n",
       "      <td>26.18596</td>\n",
       "      <td>3.80969</td>\n",
       "      <td>14.67373</td>\n",
       "      <td>0.48247</td>\n",
       "      <td>25.79976</td>\n",
       "      <td>0.62496</td>\n",
       "      <td>0.67410</td>\n",
       "      <td>0.61022</td>\n",
       "      <td>0.60207</td>\n",
       "      <td>0.00000</td>\n",
       "    </tr>\n",
       "    <tr>\n",
       "      <th>min</th>\n",
       "      <td>3.98000</td>\n",
       "      <td>2.92000</td>\n",
       "      <td>16.70000</td>\n",
       "      <td>27.00000</td>\n",
       "      <td>0.00000</td>\n",
       "      <td>3.50000</td>\n",
       "      <td>1.60543</td>\n",
       "      <td>1.36609</td>\n",
       "      <td>0.00011</td>\n",
       "      <td>0.00007</td>\n",
       "      <td>0.00000</td>\n",
       "    </tr>\n",
       "    <tr>\n",
       "      <th>25%</th>\n",
       "      <td>22.95000</td>\n",
       "      <td>19.93000</td>\n",
       "      <td>20.40000</td>\n",
       "      <td>68.00000</td>\n",
       "      <td>0.00000</td>\n",
       "      <td>21.61000</td>\n",
       "      <td>3.17597</td>\n",
       "      <td>3.04118</td>\n",
       "      <td>0.26927</td>\n",
       "      <td>0.29455</td>\n",
       "      <td>0.00000</td>\n",
       "    </tr>\n",
       "    <tr>\n",
       "      <th>50%</th>\n",
       "      <td>36.47000</td>\n",
       "      <td>33.72000</td>\n",
       "      <td>21.90000</td>\n",
       "      <td>84.00000</td>\n",
       "      <td>0.00000</td>\n",
       "      <td>35.09500</td>\n",
       "      <td>3.62354</td>\n",
       "      <td>3.54732</td>\n",
       "      <td>0.58187</td>\n",
       "      <td>0.61203</td>\n",
       "      <td>0.00000</td>\n",
       "    </tr>\n",
       "    <tr>\n",
       "      <th>75%</th>\n",
       "      <td>49.28000</td>\n",
       "      <td>47.47000</td>\n",
       "      <td>26.20000</td>\n",
       "      <td>91.00000</td>\n",
       "      <td>1.00000</td>\n",
       "      <td>48.32500</td>\n",
       "      <td>3.91761</td>\n",
       "      <td>3.88095</td>\n",
       "      <td>1.12575</td>\n",
       "      <td>1.09884</td>\n",
       "      <td>0.00000</td>\n",
       "    </tr>\n",
       "    <tr>\n",
       "      <th>max</th>\n",
       "      <td>236.10000</td>\n",
       "      <td>250.22000</td>\n",
       "      <td>34.90000</td>\n",
       "      <td>99.00000</td>\n",
       "      <td>1.00000</td>\n",
       "      <td>229.55000</td>\n",
       "      <td>5.46848</td>\n",
       "      <td>5.52633</td>\n",
       "      <td>2.99964</td>\n",
       "      <td>2.99681</td>\n",
       "      <td>0.00000</td>\n",
       "    </tr>\n",
       "  </tbody>\n",
       "</table>\n",
       "</div>"
      ],
      "text/plain": [
       "       Sensor1_PM2.5  Sensor2_PM2.5  Temperature  Relative_Humidity  \\\n",
       "count   295325.00000   295325.00000 295325.00000       295325.00000   \n",
       "mean        40.71572       38.13623     23.28425           78.76829   \n",
       "std         26.04644       26.18596      3.80969           14.67373   \n",
       "min          3.98000        2.92000     16.70000           27.00000   \n",
       "25%         22.95000       19.93000     20.40000           68.00000   \n",
       "50%         36.47000       33.72000     21.90000           84.00000   \n",
       "75%         49.28000       47.47000     26.20000           91.00000   \n",
       "max        236.10000      250.22000     34.90000           99.00000   \n",
       "\n",
       "       Offset_fault  Sensor_average  natural_log_Sensor1  natural_log_Sensor2  \\\n",
       "count  295325.00000    295325.00000         295325.00000         295325.00000   \n",
       "mean        0.36875        39.42597              3.54783              3.45725   \n",
       "std         0.48247        25.79976              0.62496              0.67410   \n",
       "min         0.00000         3.50000              1.60543              1.36609   \n",
       "25%         0.00000        21.61000              3.17597              3.04118   \n",
       "50%         0.00000        35.09500              3.62354              3.54732   \n",
       "75%         1.00000        48.32500              3.91761              3.88095   \n",
       "max         1.00000       229.55000              5.46848              5.52633   \n",
       "\n",
       "       z_score_Sensor1  z_score_Sensor2  std_difference_sensor2_mean  \n",
       "count     295325.00000     295325.00000                 295325.00000  \n",
       "mean           0.75471          0.76202                      0.00000  \n",
       "std            0.61022          0.60207                      0.00000  \n",
       "min            0.00011          0.00007                      0.00000  \n",
       "25%            0.26927          0.29455                      0.00000  \n",
       "50%            0.58187          0.61203                      0.00000  \n",
       "75%            1.12575          1.09884                      0.00000  \n",
       "max            2.99964          2.99681                      0.00000  "
      ]
     },
     "execution_count": 57,
     "metadata": {},
     "output_type": "execute_result"
    }
   ],
   "source": [
    "train.describe()"
   ]
  },
  {
   "cell_type": "code",
   "execution_count": 58,
   "id": "33826e45",
   "metadata": {},
   "outputs": [
    {
     "data": {
      "text/html": [
       "<div>\n",
       "<style scoped>\n",
       "    .dataframe tbody tr th:only-of-type {\n",
       "        vertical-align: middle;\n",
       "    }\n",
       "\n",
       "    .dataframe tbody tr th {\n",
       "        vertical-align: top;\n",
       "    }\n",
       "\n",
       "    .dataframe thead th {\n",
       "        text-align: right;\n",
       "    }\n",
       "</style>\n",
       "<table border=\"1\" class=\"dataframe\">\n",
       "  <thead>\n",
       "    <tr style=\"text-align: right;\">\n",
       "      <th></th>\n",
       "      <th>ID</th>\n",
       "      <th>Datetime</th>\n",
       "      <th>Sensor1_PM2.5</th>\n",
       "      <th>Sensor2_PM2.5</th>\n",
       "      <th>Temperature</th>\n",
       "      <th>Relative_Humidity</th>\n",
       "      <th>Offset_fault</th>\n",
       "      <th>Sensor_average</th>\n",
       "      <th>natural_log_Sensor1</th>\n",
       "      <th>natural_log_Sensor2</th>\n",
       "      <th>z_score_Sensor1</th>\n",
       "      <th>z_score_Sensor2</th>\n",
       "      <th>std_difference_sensor2_mean</th>\n",
       "    </tr>\n",
       "  </thead>\n",
       "  <tbody>\n",
       "    <tr>\n",
       "      <th>0</th>\n",
       "      <td>ID_QF0ZTQJ2SF5Q</td>\n",
       "      <td>2021-11-03 04:06:31</td>\n",
       "      <td>52.58000</td>\n",
       "      <td>49.52000</td>\n",
       "      <td>17.40000</td>\n",
       "      <td>96.00000</td>\n",
       "      <td>0</td>\n",
       "      <td>51.05000</td>\n",
       "      <td>3.98118</td>\n",
       "      <td>3.92237</td>\n",
       "      <td>0.68930</td>\n",
       "      <td>0.68634</td>\n",
       "      <td>0.00000</td>\n",
       "    </tr>\n",
       "    <tr>\n",
       "      <th>1</th>\n",
       "      <td>ID_4GTK689CNX5S</td>\n",
       "      <td>2021-11-08 18:43:23</td>\n",
       "      <td>35.25000</td>\n",
       "      <td>33.40000</td>\n",
       "      <td>25.00000</td>\n",
       "      <td>75.00000</td>\n",
       "      <td>0</td>\n",
       "      <td>34.32500</td>\n",
       "      <td>3.59044</td>\n",
       "      <td>3.53806</td>\n",
       "      <td>0.08258</td>\n",
       "      <td>0.13275</td>\n",
       "      <td>0.00000</td>\n",
       "    </tr>\n",
       "    <tr>\n",
       "      <th>2</th>\n",
       "      <td>ID_DL7VVKW9U7XQ</td>\n",
       "      <td>2021-11-07 09:50:33</td>\n",
       "      <td>19.18000</td>\n",
       "      <td>23.50000</td>\n",
       "      <td>24.90000</td>\n",
       "      <td>75.00000</td>\n",
       "      <td>0</td>\n",
       "      <td>21.34000</td>\n",
       "      <td>3.00469</td>\n",
       "      <td>3.19867</td>\n",
       "      <td>0.82693</td>\n",
       "      <td>0.35613</td>\n",
       "      <td>0.00000</td>\n",
       "    </tr>\n",
       "    <tr>\n",
       "      <th>3</th>\n",
       "      <td>ID_6XQOMBXM2DG3</td>\n",
       "      <td>2022-01-01 18:55:15</td>\n",
       "      <td>19.40000</td>\n",
       "      <td>15.48000</td>\n",
       "      <td>24.90000</td>\n",
       "      <td>70.00000</td>\n",
       "      <td>0</td>\n",
       "      <td>17.44000</td>\n",
       "      <td>3.01553</td>\n",
       "      <td>2.80215</td>\n",
       "      <td>0.81010</td>\n",
       "      <td>0.92732</td>\n",
       "      <td>0.00000</td>\n",
       "    </tr>\n",
       "    <tr>\n",
       "      <th>4</th>\n",
       "      <td>ID_UQZW9ISJY9QE</td>\n",
       "      <td>2021-11-05 22:23:48</td>\n",
       "      <td>38.30000</td>\n",
       "      <td>34.77000</td>\n",
       "      <td>20.90000</td>\n",
       "      <td>89.00000</td>\n",
       "      <td>0</td>\n",
       "      <td>36.53500</td>\n",
       "      <td>3.67122</td>\n",
       "      <td>3.57711</td>\n",
       "      <td>0.20802</td>\n",
       "      <td>0.18900</td>\n",
       "      <td>0.00000</td>\n",
       "    </tr>\n",
       "  </tbody>\n",
       "</table>\n",
       "</div>"
      ],
      "text/plain": [
       "                ID            Datetime  Sensor1_PM2.5  Sensor2_PM2.5  \\\n",
       "0  ID_QF0ZTQJ2SF5Q 2021-11-03 04:06:31       52.58000       49.52000   \n",
       "1  ID_4GTK689CNX5S 2021-11-08 18:43:23       35.25000       33.40000   \n",
       "2  ID_DL7VVKW9U7XQ 2021-11-07 09:50:33       19.18000       23.50000   \n",
       "3  ID_6XQOMBXM2DG3 2022-01-01 18:55:15       19.40000       15.48000   \n",
       "4  ID_UQZW9ISJY9QE 2021-11-05 22:23:48       38.30000       34.77000   \n",
       "\n",
       "   Temperature  Relative_Humidity  Offset_fault  Sensor_average  \\\n",
       "0     17.40000           96.00000             0        51.05000   \n",
       "1     25.00000           75.00000             0        34.32500   \n",
       "2     24.90000           75.00000             0        21.34000   \n",
       "3     24.90000           70.00000             0        17.44000   \n",
       "4     20.90000           89.00000             0        36.53500   \n",
       "\n",
       "   natural_log_Sensor1  natural_log_Sensor2  z_score_Sensor1  z_score_Sensor2  \\\n",
       "0              3.98118              3.92237          0.68930          0.68634   \n",
       "1              3.59044              3.53806          0.08258          0.13275   \n",
       "2              3.00469              3.19867          0.82693          0.35613   \n",
       "3              3.01553              2.80215          0.81010          0.92732   \n",
       "4              3.67122              3.57711          0.20802          0.18900   \n",
       "\n",
       "   std_difference_sensor2_mean  \n",
       "0                      0.00000  \n",
       "1                      0.00000  \n",
       "2                      0.00000  \n",
       "3                      0.00000  \n",
       "4                      0.00000  "
      ]
     },
     "execution_count": 58,
     "metadata": {},
     "output_type": "execute_result"
    }
   ],
   "source": [
    "train.head()"
   ]
  },
  {
   "cell_type": "markdown",
   "id": "1e87292e",
   "metadata": {},
   "source": [
    "## Preprocessing "
   ]
  },
  {
   "cell_type": "code",
   "execution_count": 59,
   "id": "3a441e78",
   "metadata": {},
   "outputs": [],
   "source": [
    "#Train\n",
    "train['Datetime_day'] = train.Datetime.dt.day\n",
    "train['Datetime_month'] = train.Datetime.dt.month\n",
    "train['Datetime_hour'] = train.Datetime.dt.hour\n",
    "#Test\n",
    "test['Datetime_day'] = test.Datetime.dt.day\n",
    "test['Datetime_month'] = test.Datetime.dt.month\n",
    "test['Datetime_hour'] = test.Datetime.dt.hour"
   ]
  },
  {
   "cell_type": "code",
   "execution_count": 60,
   "id": "01ee7c63",
   "metadata": {},
   "outputs": [],
   "source": [
    "train_feats = ['Sensor1_PM2.5','Sensor2_PM2.5','Temperature','Relative_Humidity','Sensor_average',\\\n",
    "               'natural_log_Sensor1',\"natural_log_Sensor2\",'Datetime_month','Datetime_day','Datetime_hour','z_score_Sensor1','z_score_Sensor2','std_difference_sensor2_mean']\n"
   ]
  },
  {
   "cell_type": "code",
   "execution_count": 61,
   "id": "6b2ec5c5",
   "metadata": {},
   "outputs": [],
   "source": [
    "X = train[train_feats]\n",
    "y = train.Offset_fault"
   ]
  },
  {
   "cell_type": "markdown",
   "id": "5ddb74dc",
   "metadata": {},
   "source": [
    "# Modelling"
   ]
  },
  {
   "cell_type": "code",
   "execution_count": 62,
   "id": "c97618ef",
   "metadata": {},
   "outputs": [],
   "source": [
    "# Number of trees in random forest\n",
    "n_estimators = [67]\n",
    "# Number of features to consider at every split\n",
    "max_features = ['log2']\n",
    "# Maximum number of levels in tree\n",
    "max_depth = [25]\n",
    "# Minimum number of samples required to split a node\n",
    "min_samples_split = [6]\n",
    "# Minimum number of samples required at each leaf node\n",
    "min_samples_leaf = [1]\n",
    "# Method of selecting samples for training each tree\n",
    "bootstrap = [True]"
   ]
  },
  {
   "cell_type": "code",
   "execution_count": 63,
   "id": "6189814d",
   "metadata": {},
   "outputs": [],
   "source": [
    "param_grid = {'n_estimators': n_estimators,\n",
    "               'max_features': max_features,\n",
    "               'max_depth': max_depth,\n",
    "               'min_samples_split': min_samples_split,\n",
    "               'min_samples_leaf': min_samples_leaf,\n",
    "               'bootstrap': bootstrap}"
   ]
  },
  {
   "cell_type": "code",
   "execution_count": 64,
   "id": "dadc0e7a",
   "metadata": {},
   "outputs": [
    {
     "data": {
      "text/plain": [
       "\"pt=PowerTransformer(method='yeo-johnson') \\nX_power=pt.fit_transform(X)\\nX=pd.DataFrame(X_power,columns=X.columns)\""
      ]
     },
     "execution_count": 64,
     "metadata": {},
     "output_type": "execute_result"
    }
   ],
   "source": [
    "'''pt=PowerTransformer(method='yeo-johnson') \n",
    "X_power=pt.fit_transform(X)\n",
    "X=pd.DataFrame(X_power,columns=X.columns)'''"
   ]
  },
  {
   "cell_type": "markdown",
   "id": "51120346",
   "metadata": {},
   "source": [
    "## Spliting train data in to train and test and finding best params"
   ]
  },
  {
   "cell_type": "code",
   "execution_count": 65,
   "id": "84368859",
   "metadata": {},
   "outputs": [
    {
     "name": "stdout",
     "output_type": "stream",
     "text": [
      "Fitting 3 folds for each of 1 candidates, totalling 3 fits\n"
     ]
    },
    {
     "data": {
      "text/plain": [
       "{'bootstrap': True,\n",
       " 'max_depth': 25,\n",
       " 'max_features': 'log2',\n",
       " 'min_samples_leaf': 1,\n",
       " 'min_samples_split': 6,\n",
       " 'n_estimators': 67}"
      ]
     },
     "execution_count": 65,
     "metadata": {},
     "output_type": "execute_result"
    }
   ],
   "source": [
    "# Splitting the data into training and testing sets\n",
    "X_train, X_test, y_train, y_test = train_test_split(X, y, test_size = 0.001, random_state = 0)\n",
    "\n",
    "#Instantiating the model\n",
    "clf1 = RandomForestClassifier(random_state=0)\n",
    "clf_grid = GridSearchCV(estimator = clf1, param_grid = param_grid, cv = 3, verbose=2, n_jobs = 4)\n",
    "clf_grid.fit(X_train, y_train)\n",
    "clf_grid.best_params_"
   ]
  },
  {
   "cell_type": "markdown",
   "id": "fe7dfe8c",
   "metadata": {},
   "source": [
    "After instansiating the model multiple times I have found the best hyperparameters to be    I will now bypass gridsearchcv and put these parameters directly into the randomforest classifier"
   ]
  },
  {
   "cell_type": "code",
   "execution_count": 66,
   "id": "5115b76d",
   "metadata": {},
   "outputs": [],
   "source": [
    "clf=clf_grid.best_estimator_"
   ]
  },
  {
   "cell_type": "code",
   "execution_count": 67,
   "id": "8820b399",
   "metadata": {
    "scrolled": true
   },
   "outputs": [
    {
     "name": "stdout",
     "output_type": "stream",
     "text": [
      "Accuracy score: 0.9628378378378378\n",
      "\n",
      "\n",
      "              precision    recall  f1-score   support\n",
      "\n",
      "           0       0.97      0.97      0.97       195\n",
      "           1       0.95      0.94      0.95       101\n",
      "\n",
      "    accuracy                           0.96       296\n",
      "   macro avg       0.96      0.96      0.96       296\n",
      "weighted avg       0.96      0.96      0.96       296\n",
      "\n"
     ]
    }
   ],
   "source": [
    "# Making predictions\n",
    "y_pred = clf.predict(X_test)\n",
    "\n",
    "# Measuring the accuracy of the model\n",
    "print(f'Accuracy score: {accuracy_score(y_test, y_pred)}')\n",
    "print('\\n')\n",
    "print(f'{classification_report(y_test, y_pred)}')"
   ]
  },
  {
   "cell_type": "code",
   "execution_count": 68,
   "id": "6a2a2f4f",
   "metadata": {},
   "outputs": [
    {
     "data": {
      "image/png": "[encoded data removed]",
      "text/plain": [
       "<Figure size 1080x504 with 2 Axes>"
      ]
     },
     "metadata": {
      "needs_background": "light"
     },
     "output_type": "display_data"
    }
   ],
   "source": [
    "# Confusion matrix\n",
    "cm = confusion_matrix(y_test, y_pred, labels=clf.classes_)\n",
    "disp = ConfusionMatrixDisplay(confusion_matrix=cm, display_labels=clf.classes_)\n",
    "fig, ax = plt.subplots(figsize=(15,7))\n",
    "disp.plot(ax=ax)\n",
    "plt.show()"
   ]
  },
  {
   "cell_type": "code",
   "execution_count": 69,
   "id": "753236fb",
   "metadata": {},
   "outputs": [
    {
     "data": {
      "image/png": "[encoded data removed]",
      "text/plain": [
       "<Figure size 720x720 with 1 Axes>"
      ]
     },
     "metadata": {
      "needs_background": "light"
     },
     "output_type": "display_data"
    }
   ],
   "source": [
    "# Feature importance\n",
    "impo_df = pd.DataFrame({'feature': X.columns, 'importance': clf.feature_importances_}).set_index('feature').sort_values(by = 'importance', ascending = False)\n",
    "impo_df = impo_df[:12].sort_values(by = 'importance', ascending = True)\n",
    "impo_df.plot(kind = 'barh', figsize = (10, 10), color = 'purple')\n",
    "plt.legend(loc = 'center right')\n",
    "plt.title('Bar chart showing feature importance', color = 'indigo', fontsize = 14)\n",
    "plt.xlabel('Features', fontsize = 12, color = 'indigo')\n",
    "plt.show()"
   ]
  },
  {
   "cell_type": "markdown",
   "id": "d44907b3",
   "metadata": {},
   "source": [
    "## Making predictions of the test set and creating a submission file"
   ]
  },
  {
   "cell_type": "markdown",
   "id": "72082abd",
   "metadata": {},
   "source": [
    "this step i remove all skewness from the data using powertransfrormer I then restate all the coulumns of the data and turn it back into a dataframe "
   ]
  },
  {
   "cell_type": "code",
   "execution_count": 70,
   "id": "120ddbc6",
   "metadata": {},
   "outputs": [
    {
     "data": {
      "text/plain": [
       "'X_power=pt.fit_transform(test_df)\\ntest_df=pd.DataFrame(X_power,columns=X.columns)'"
      ]
     },
     "execution_count": 70,
     "metadata": {},
     "output_type": "execute_result"
    }
   ],
   "source": [
    "test_df = test[train_feats]\n",
    "'''X_power=pt.fit_transform(test_df)\n",
    "test_df=pd.DataFrame(X_power,columns=X.columns)'''"
   ]
  },
  {
   "cell_type": "code",
   "execution_count": 71,
   "id": "4fec70ee",
   "metadata": {},
   "outputs": [
    {
     "data": {
      "image/png": "[encoded data removed]",
      "text/plain": [
       "<Figure size 576x360 with 1 Axes>"
      ]
     },
     "metadata": {
      "needs_background": "light"
     },
     "output_type": "display_data"
    }
   ],
   "source": [
    "# Make prediction on the test set\n",
    "predictions = clf.predict(test_df)\n",
    "\n",
    "# # Create a submission file\n",
    "sub_file = samplesubmission.copy()\n",
    "sub_file.Offset_fault = predictions\n",
    "\n",
    "# Check the distribution of your predictions\n",
    "plt.figure(figsize=(8, 5))\n",
    "sns.countplot(sub_file.Offset_fault)\n",
    "plt.title('Predictions Data Distribution');"
   ]
  },
  {
   "cell_type": "code",
   "execution_count": 72,
   "id": "d0d3e439",
   "metadata": {},
   "outputs": [],
   "source": [
    "# Create file\n",
    "sub_file.to_csv('Baseline.csv', index = False)"
   ]
  },
  {
   "cell_type": "markdown",
   "id": "1de80631",
   "metadata": {},
   "source": [
    "Notes at the end of the competition \n",
    "Great experience I enjoyed this so much it really played on my competetive spirit and i could not believe by the second day how excited i was to get up and work on my code i loved this experience to flex my machine learning mucle"
   ]
  },
  {
   "cell_type": "markdown",
   "id": "1324aa7b",
   "metadata": {},
   "source": [
    "self notes for the code it is sloppy but it works i first added more features to the code before I started with the machine learning model i saught to naturalize the data first and then utalise techniques to make the things happen This is the first machine learning model that I have made on my own so I kept it simple (More understandable for myself ) I could have also used pipelines and such to streamline the code. I tried and sadly find it too confusing if it is not directly infront of me."
   ]
  }
 ],
 "metadata": {
  "kernelspec": {
   "display_name": "Python 3 (ipykernel)",
   "language": "python",
   "name": "python3"
  },
  "language_info": {
   "codemirror_mode": {
    "name": "ipython",
    "version": 3
   },
   "file_extension": ".py",
   "mimetype": "text/x-python",
   "name": "python",
   "nbconvert_exporter": "python",
   "pygments_lexer": "ipython3",
   "version": "3.9.7"
  }
 },
 "nbformat": 4,
 "nbformat_minor": 5
}
